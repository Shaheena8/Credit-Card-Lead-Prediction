{
 "cells": [
  {
   "cell_type": "markdown",
   "metadata": {},
   "source": [
    "## Import Libraries"
   ]
  },
  {
   "cell_type": "code",
   "execution_count": 2,
   "metadata": {},
   "outputs": [],
   "source": [
    "import numpy as np\n",
    "import pandas as pd\n",
    "import matplotlib.pyplot as plt\n",
    "import seaborn as sns"
   ]
  },
  {
   "cell_type": "code",
   "execution_count": null,
   "metadata": {},
   "outputs": [],
   "source": []
  },
  {
   "cell_type": "code",
   "execution_count": 7,
   "metadata": {},
   "outputs": [],
   "source": [
    "import warnings\n",
    "warnings.filterwarnings(\"ignore\", category=FutureWarning)"
   ]
  },
  {
   "cell_type": "markdown",
   "metadata": {},
   "source": [
    "## Import train Data "
   ]
  },
  {
   "cell_type": "code",
   "execution_count": 285,
   "metadata": {},
   "outputs": [
    {
     "data": {
      "text/html": [
       "<div>\n",
       "<style scoped>\n",
       "    .dataframe tbody tr th:only-of-type {\n",
       "        vertical-align: middle;\n",
       "    }\n",
       "\n",
       "    .dataframe tbody tr th {\n",
       "        vertical-align: top;\n",
       "    }\n",
       "\n",
       "    .dataframe thead th {\n",
       "        text-align: right;\n",
       "    }\n",
       "</style>\n",
       "<table border=\"1\" class=\"dataframe\">\n",
       "  <thead>\n",
       "    <tr style=\"text-align: right;\">\n",
       "      <th></th>\n",
       "      <th>ID</th>\n",
       "      <th>Gender</th>\n",
       "      <th>Age</th>\n",
       "      <th>Region_Code</th>\n",
       "      <th>Occupation</th>\n",
       "      <th>Channel_Code</th>\n",
       "      <th>Vintage</th>\n",
       "      <th>Credit_Product</th>\n",
       "      <th>Avg_Account_Balance</th>\n",
       "      <th>Is_Active</th>\n",
       "      <th>Is_Lead</th>\n",
       "    </tr>\n",
       "  </thead>\n",
       "  <tbody>\n",
       "    <tr>\n",
       "      <th>245722</th>\n",
       "      <td>GEHAUCWT</td>\n",
       "      <td>Female</td>\n",
       "      <td>26</td>\n",
       "      <td>RG281</td>\n",
       "      <td>Salaried</td>\n",
       "      <td>X1</td>\n",
       "      <td>13</td>\n",
       "      <td>No</td>\n",
       "      <td>670659</td>\n",
       "      <td>No</td>\n",
       "      <td>0</td>\n",
       "    </tr>\n",
       "    <tr>\n",
       "      <th>245723</th>\n",
       "      <td>GE7V8SAH</td>\n",
       "      <td>Female</td>\n",
       "      <td>28</td>\n",
       "      <td>RG273</td>\n",
       "      <td>Salaried</td>\n",
       "      <td>X1</td>\n",
       "      <td>31</td>\n",
       "      <td>No</td>\n",
       "      <td>407504</td>\n",
       "      <td>No</td>\n",
       "      <td>0</td>\n",
       "    </tr>\n",
       "    <tr>\n",
       "      <th>245724</th>\n",
       "      <td>BOCZSWLJ</td>\n",
       "      <td>Male</td>\n",
       "      <td>29</td>\n",
       "      <td>RG269</td>\n",
       "      <td>Salaried</td>\n",
       "      <td>X1</td>\n",
       "      <td>21</td>\n",
       "      <td>No</td>\n",
       "      <td>1129276</td>\n",
       "      <td>No</td>\n",
       "      <td>0</td>\n",
       "    </tr>\n",
       "  </tbody>\n",
       "</table>\n",
       "</div>"
      ],
      "text/plain": [
       "              ID  Gender  Age Region_Code Occupation Channel_Code  Vintage  \\\n",
       "245722  GEHAUCWT  Female   26       RG281   Salaried           X1       13   \n",
       "245723  GE7V8SAH  Female   28       RG273   Salaried           X1       31   \n",
       "245724  BOCZSWLJ    Male   29       RG269   Salaried           X1       21   \n",
       "\n",
       "       Credit_Product  Avg_Account_Balance Is_Active  Is_Lead  \n",
       "245722             No               670659        No        0  \n",
       "245723             No               407504        No        0  \n",
       "245724             No              1129276        No        0  "
      ]
     },
     "execution_count": 285,
     "metadata": {},
     "output_type": "execute_result"
    }
   ],
   "source": [
    "\n",
    "credit = pd.read_csv('train_s3TEQDk.csv')\n",
    "credit.tail(3)"
   ]
  },
  {
   "cell_type": "markdown",
   "metadata": {},
   "source": [
    "###  Import module or subpackage <a class=\"anchor\" id=\"1.5\"></a>"
   ]
  },
  {
   "cell_type": "code",
   "execution_count": 8,
   "metadata": {},
   "outputs": [],
   "source": [
    "from sklearn.metrics import r2_score, mean_absolute_error, mean_squared_error, accuracy_score, confusion_matrix"
   ]
  },
  {
   "cell_type": "code",
   "execution_count": 9,
   "metadata": {},
   "outputs": [],
   "source": [
    "###  Selection data from DataFrame (Pandas Tips)<a class=\"anchor\" id=\"2.8\"></a>"
   ]
  },
  {
   "cell_type": "code",
   "execution_count": 286,
   "metadata": {},
   "outputs": [
    {
     "name": "stdout",
     "output_type": "stream",
     "text": [
      "<class 'pandas.core.frame.DataFrame'>\n",
      "RangeIndex: 245725 entries, 0 to 245724\n",
      "Data columns (total 11 columns):\n",
      " #   Column               Non-Null Count   Dtype \n",
      "---  ------               --------------   ----- \n",
      " 0   ID                   245725 non-null  object\n",
      " 1   Gender               245725 non-null  object\n",
      " 2   Age                  245725 non-null  int64 \n",
      " 3   Region_Code          245725 non-null  object\n",
      " 4   Occupation           245725 non-null  object\n",
      " 5   Channel_Code         245725 non-null  object\n",
      " 6   Vintage              245725 non-null  int64 \n",
      " 7   Credit_Product       216400 non-null  object\n",
      " 8   Avg_Account_Balance  245725 non-null  int64 \n",
      " 9   Is_Active            245725 non-null  object\n",
      " 10  Is_Lead              245725 non-null  int64 \n",
      "dtypes: int64(4), object(7)\n",
      "memory usage: 20.6+ MB\n"
     ]
    }
   ],
   "source": [
    "df = credit.copy()\n",
    "df.info()"
   ]
  },
  {
   "cell_type": "code",
   "execution_count": 287,
   "metadata": {},
   "outputs": [
    {
     "data": {
      "text/html": [
       "<div>\n",
       "<style scoped>\n",
       "    .dataframe tbody tr th:only-of-type {\n",
       "        vertical-align: middle;\n",
       "    }\n",
       "\n",
       "    .dataframe tbody tr th {\n",
       "        vertical-align: top;\n",
       "    }\n",
       "\n",
       "    .dataframe thead th {\n",
       "        text-align: right;\n",
       "    }\n",
       "</style>\n",
       "<table border=\"1\" class=\"dataframe\">\n",
       "  <thead>\n",
       "    <tr style=\"text-align: right;\">\n",
       "      <th></th>\n",
       "      <th>ID</th>\n",
       "      <th>Gender</th>\n",
       "      <th>Age</th>\n",
       "      <th>Region_Code</th>\n",
       "    </tr>\n",
       "  </thead>\n",
       "  <tbody>\n",
       "    <tr>\n",
       "      <th>2</th>\n",
       "      <td>HD3DSEMC</td>\n",
       "      <td>Female</td>\n",
       "      <td>56</td>\n",
       "      <td>RG268</td>\n",
       "    </tr>\n",
       "    <tr>\n",
       "      <th>3</th>\n",
       "      <td>BF3NC7KV</td>\n",
       "      <td>Male</td>\n",
       "      <td>34</td>\n",
       "      <td>RG270</td>\n",
       "    </tr>\n",
       "    <tr>\n",
       "      <th>4</th>\n",
       "      <td>TEASRWXV</td>\n",
       "      <td>Female</td>\n",
       "      <td>30</td>\n",
       "      <td>RG282</td>\n",
       "    </tr>\n",
       "  </tbody>\n",
       "</table>\n",
       "</div>"
      ],
      "text/plain": [
       "         ID  Gender  Age Region_Code\n",
       "2  HD3DSEMC  Female   56       RG268\n",
       "3  BF3NC7KV    Male   34       RG270\n",
       "4  TEASRWXV  Female   30       RG282"
      ]
     },
     "execution_count": 287,
     "metadata": {},
     "output_type": "execute_result"
    }
   ],
   "source": [
    "# df.loc[], df.iloc\n",
    "df.iloc[2:5, :].loc[:, \"ID\":\"Region_Code\"]"
   ]
  },
  {
   "cell_type": "code",
   "execution_count": null,
   "metadata": {},
   "outputs": [],
   "source": []
  },
  {
   "cell_type": "code",
   "execution_count": 22,
   "metadata": {},
   "outputs": [
    {
     "data": {
      "text/html": [
       "<div>\n",
       "<style scoped>\n",
       "    .dataframe tbody tr th:only-of-type {\n",
       "        vertical-align: middle;\n",
       "    }\n",
       "\n",
       "    .dataframe tbody tr th {\n",
       "        vertical-align: top;\n",
       "    }\n",
       "\n",
       "    .dataframe thead th {\n",
       "        text-align: right;\n",
       "    }\n",
       "</style>\n",
       "<table border=\"1\" class=\"dataframe\">\n",
       "  <thead>\n",
       "    <tr style=\"text-align: right;\">\n",
       "      <th></th>\n",
       "      <th>ID</th>\n",
       "      <th>Gender</th>\n",
       "      <th>Age</th>\n",
       "      <th>Occupation</th>\n",
       "      <th>Channel_Code</th>\n",
       "      <th>Vintage</th>\n",
       "    </tr>\n",
       "  </thead>\n",
       "  <tbody>\n",
       "    <tr>\n",
       "      <th>0</th>\n",
       "      <td>NNVBBKZB</td>\n",
       "      <td>Female</td>\n",
       "      <td>73</td>\n",
       "      <td>Other</td>\n",
       "      <td>X3</td>\n",
       "      <td>43</td>\n",
       "    </tr>\n",
       "    <tr>\n",
       "      <th>1</th>\n",
       "      <td>IDD62UNG</td>\n",
       "      <td>Female</td>\n",
       "      <td>30</td>\n",
       "      <td>Salaried</td>\n",
       "      <td>X1</td>\n",
       "      <td>32</td>\n",
       "    </tr>\n",
       "    <tr>\n",
       "      <th>2</th>\n",
       "      <td>HD3DSEMC</td>\n",
       "      <td>Female</td>\n",
       "      <td>56</td>\n",
       "      <td>Self_Employed</td>\n",
       "      <td>X3</td>\n",
       "      <td>26</td>\n",
       "    </tr>\n",
       "  </tbody>\n",
       "</table>\n",
       "</div>"
      ],
      "text/plain": [
       "         ID  Gender  Age     Occupation Channel_Code  Vintage\n",
       "0  NNVBBKZB  Female   73          Other           X3       43\n",
       "1  IDD62UNG  Female   30       Salaried           X1       32\n",
       "2  HD3DSEMC  Female   56  Self_Employed           X3       26"
      ]
     },
     "metadata": {},
     "output_type": "display_data"
    },
    {
     "data": {
      "text/html": [
       "<div>\n",
       "<style scoped>\n",
       "    .dataframe tbody tr th:only-of-type {\n",
       "        vertical-align: middle;\n",
       "    }\n",
       "\n",
       "    .dataframe tbody tr th {\n",
       "        vertical-align: top;\n",
       "    }\n",
       "\n",
       "    .dataframe thead th {\n",
       "        text-align: right;\n",
       "    }\n",
       "</style>\n",
       "<table border=\"1\" class=\"dataframe\">\n",
       "  <thead>\n",
       "    <tr style=\"text-align: right;\">\n",
       "      <th></th>\n",
       "      <th>ID</th>\n",
       "      <th>Gender</th>\n",
       "      <th>Age</th>\n",
       "      <th>Occupation</th>\n",
       "      <th>Channel_Code</th>\n",
       "      <th>Vintage</th>\n",
       "    </tr>\n",
       "  </thead>\n",
       "  <tbody>\n",
       "    <tr>\n",
       "      <th>0</th>\n",
       "      <td>NNVBBKZB</td>\n",
       "      <td>Female</td>\n",
       "      <td>73</td>\n",
       "      <td>Other</td>\n",
       "      <td>X3</td>\n",
       "      <td>43</td>\n",
       "    </tr>\n",
       "    <tr>\n",
       "      <th>1</th>\n",
       "      <td>IDD62UNG</td>\n",
       "      <td>Female</td>\n",
       "      <td>30</td>\n",
       "      <td>Salaried</td>\n",
       "      <td>X1</td>\n",
       "      <td>32</td>\n",
       "    </tr>\n",
       "    <tr>\n",
       "      <th>2</th>\n",
       "      <td>HD3DSEMC</td>\n",
       "      <td>Female</td>\n",
       "      <td>56</td>\n",
       "      <td>Self_Employed</td>\n",
       "      <td>X3</td>\n",
       "      <td>26</td>\n",
       "    </tr>\n",
       "  </tbody>\n",
       "</table>\n",
       "</div>"
      ],
      "text/plain": [
       "         ID  Gender  Age     Occupation Channel_Code  Vintage\n",
       "0  NNVBBKZB  Female   73          Other           X3       43\n",
       "1  IDD62UNG  Female   30       Salaried           X1       32\n",
       "2  HD3DSEMC  Female   56  Self_Employed           X3       26"
      ]
     },
     "metadata": {},
     "output_type": "display_data"
    }
   ],
   "source": [
    "# Select multiple slices of columns from a df\n",
    "cols_str = list(map(str, list(df.columns))) # so that we can do df[\"0\"] as string for the example\n",
    "df.columns = cols_str\n",
    "\n",
    "\n",
    "# please ntoe that df.columns is a series with index, so we are using index to filter #\n",
    "display(df[list(df.columns[0:3]) + list(df.columns[4:7])].head(3))\n",
    "\n",
    "# Using numpy\n",
    "display(df.iloc[:, np.r_[0:3, 4:7]].head(3)) # probably the most beautiful solution"
   ]
  },
  {
   "cell_type": "code",
   "execution_count": 23,
   "metadata": {},
   "outputs": [
    {
     "data": {
      "text/plain": [
       "280"
      ]
     },
     "execution_count": 23,
     "metadata": {},
     "output_type": "execute_result"
    }
   ],
   "source": [
    "import gc\n",
    "del df_all\n",
    "gc.collect()"
   ]
  },
  {
   "cell_type": "markdown",
   "metadata": {},
   "source": [
    " ## EDA & Data cleaning<a class=\"anchor\" id=\"4\"></a>"
   ]
  },
  {
   "cell_type": "code",
   "execution_count": 78,
   "metadata": {},
   "outputs": [
    {
     "data": {
      "text/html": [
       "<div>\n",
       "<style scoped>\n",
       "    .dataframe tbody tr th:only-of-type {\n",
       "        vertical-align: middle;\n",
       "    }\n",
       "\n",
       "    .dataframe tbody tr th {\n",
       "        vertical-align: top;\n",
       "    }\n",
       "\n",
       "    .dataframe thead th {\n",
       "        text-align: right;\n",
       "    }\n",
       "</style>\n",
       "<table border=\"1\" class=\"dataframe\">\n",
       "  <thead>\n",
       "    <tr style=\"text-align: right;\">\n",
       "      <th></th>\n",
       "      <th>Gender</th>\n",
       "      <th>Vintage</th>\n",
       "      <th>Avg_Account_Balance</th>\n",
       "      <th>Is_Active</th>\n",
       "    </tr>\n",
       "  </thead>\n",
       "  <tbody>\n",
       "    <tr>\n",
       "      <th>count</th>\n",
       "      <td>245725.000000</td>\n",
       "      <td>245725.000000</td>\n",
       "      <td>2.457250e+05</td>\n",
       "      <td>245725.0</td>\n",
       "    </tr>\n",
       "    <tr>\n",
       "      <th>mean</th>\n",
       "      <td>0.546127</td>\n",
       "      <td>46.959141</td>\n",
       "      <td>1.128403e+06</td>\n",
       "      <td>1.0</td>\n",
       "    </tr>\n",
       "    <tr>\n",
       "      <th>std</th>\n",
       "      <td>0.497869</td>\n",
       "      <td>32.353136</td>\n",
       "      <td>8.529364e+05</td>\n",
       "      <td>0.0</td>\n",
       "    </tr>\n",
       "    <tr>\n",
       "      <th>min</th>\n",
       "      <td>0.000000</td>\n",
       "      <td>7.000000</td>\n",
       "      <td>2.079000e+04</td>\n",
       "      <td>1.0</td>\n",
       "    </tr>\n",
       "    <tr>\n",
       "      <th>25%</th>\n",
       "      <td>0.000000</td>\n",
       "      <td>20.000000</td>\n",
       "      <td>6.043100e+05</td>\n",
       "      <td>1.0</td>\n",
       "    </tr>\n",
       "    <tr>\n",
       "      <th>50%</th>\n",
       "      <td>1.000000</td>\n",
       "      <td>32.000000</td>\n",
       "      <td>8.946010e+05</td>\n",
       "      <td>1.0</td>\n",
       "    </tr>\n",
       "    <tr>\n",
       "      <th>75%</th>\n",
       "      <td>1.000000</td>\n",
       "      <td>73.000000</td>\n",
       "      <td>1.366666e+06</td>\n",
       "      <td>1.0</td>\n",
       "    </tr>\n",
       "    <tr>\n",
       "      <th>max</th>\n",
       "      <td>1.000000</td>\n",
       "      <td>135.000000</td>\n",
       "      <td>1.035201e+07</td>\n",
       "      <td>1.0</td>\n",
       "    </tr>\n",
       "  </tbody>\n",
       "</table>\n",
       "</div>"
      ],
      "text/plain": [
       "              Gender        Vintage  Avg_Account_Balance  Is_Active\n",
       "count  245725.000000  245725.000000         2.457250e+05   245725.0\n",
       "mean        0.546127      46.959141         1.128403e+06        1.0\n",
       "std         0.497869      32.353136         8.529364e+05        0.0\n",
       "min         0.000000       7.000000         2.079000e+04        1.0\n",
       "25%         0.000000      20.000000         6.043100e+05        1.0\n",
       "50%         1.000000      32.000000         8.946010e+05        1.0\n",
       "75%         1.000000      73.000000         1.366666e+06        1.0\n",
       "max         1.000000     135.000000         1.035201e+07        1.0"
      ]
     },
     "execution_count": 78,
     "metadata": {},
     "output_type": "execute_result"
    }
   ],
   "source": [
    "\n",
    "df.describe()"
   ]
  },
  {
   "cell_type": "code",
   "execution_count": 92,
   "metadata": {},
   "outputs": [
    {
     "name": "stdout",
     "output_type": "stream",
     "text": [
      "Vintage\n"
     ]
    },
    {
     "data": {
      "text/plain": [
       "<matplotlib.axes._subplots.AxesSubplot at 0x273272f2ca0>"
      ]
     },
     "execution_count": 92,
     "metadata": {},
     "output_type": "execute_result"
    },
    {
     "data": {
      "image/png": "[encoded data removed]",
      "text/plain": [
       "<Figure size 432x288 with 1 Axes>"
      ]
     },
     "metadata": {
      "needs_background": "light"
     },
     "output_type": "display_data"
    }
   ],
   "source": [
    "print(str(coln[6]))\n",
    "df[coln[6]].plot.kde()\n"
   ]
  },
  {
   "cell_type": "code",
   "execution_count": 93,
   "metadata": {},
   "outputs": [
    {
     "name": "stdout",
     "output_type": "stream",
     "text": [
      "Avg_Account_Balance\n"
     ]
    },
    {
     "data": {
      "text/plain": [
       "<matplotlib.axes._subplots.AxesSubplot at 0x27327361160>"
      ]
     },
     "execution_count": 93,
     "metadata": {},
     "output_type": "execute_result"
    },
    {
     "data": {
      "image/png": "[encoded data removed]",
      "text/plain": [
       "<Figure size 432x288 with 1 Axes>"
      ]
     },
     "metadata": {
      "needs_background": "light"
     },
     "output_type": "display_data"
    }
   ],
   "source": [
    "print(str(coln[8]))\n",
    "\n",
    "df[coln[8]].plot.kde()\n"
   ]
  },
  {
   "cell_type": "markdown",
   "metadata": {},
   "source": [
    "### Count of rows that match a condition <a class=\"anchor\" id=\"4.1\"></a>"
   ]
  },
  {
   "cell_type": "code",
   "execution_count": 97,
   "metadata": {},
   "outputs": [
    {
     "name": "stdout",
     "output_type": "stream",
     "text": [
      "In the columns Age we have 92062 of rows that are below \n",
      "In the columns Age the values that are below 35 represent 0.3746545935496999%\n",
      "In the columns Age we have 188164 of rows that are below \n",
      "In the columns Age the values that are below 55 represent 0.7657503306541866%\n",
      "In the columns Vintage we have 156357 of rows that are below \n",
      "In the columns Vintage the values that are below 55 represent 0.6363088818801506%\n"
     ]
    }
   ],
   "source": [
    "df = credit.copy()\n",
    "df.head()\n",
    "df.shape\n",
    "\n",
    "# absolute values\n",
    "(df[\"Age\"] < 65).sum()\n",
    "print(\"In the columns Age we have {} of rows that are below \".format((df[\"Age\"] < 35).sum()))\n",
    "\n",
    "# mean value\n",
    "(df[\"Age\"] < 65).mean()\n",
    "print(\"In the columns Age the values that are below 35 represent {}%\".format((df[\"Age\"] < 35).mean()))\n",
    "\n",
    "print(\"In the columns Age we have {} of rows that are below \".format((df[\"Age\"] < 55).sum()))\n",
    "\n",
    "print(\"In the columns Age the values that are below 55 represent {}%\".format((df[\"Age\"] < 55).mean()))\n",
    "\n",
    "\n",
    "print(\"In the columns Vintage we have {} of rows that are below \".format((df[\"Vintage\"] < 55).sum()))\n",
    "\n",
    "print(\"In the columns Vintage the values that are below 55 represent {}%\".format((df[\"Vintage\"] < 55).mean()))"
   ]
  },
  {
   "cell_type": "code",
   "execution_count": 35,
   "metadata": {},
   "outputs": [
    {
     "name": "stdout",
     "output_type": "stream",
     "text": [
      "In the columns Vintage we have 156357 of rows that are below \n",
      "In the columns Vintage the values that are below 55 represent 0.6363088818801506%\n"
     ]
    }
   ],
   "source": [
    "print(\"In the columns Vintage we have {} of rows that are below \".format((df[\"Vintage\"] < 55).sum()))\n",
    "\n",
    "print(\"In the columns Vintage the values that are below 55 represent {}%\".format((df[\"Vintage\"] < 55).mean()))"
   ]
  },
  {
   "cell_type": "markdown",
   "metadata": {},
   "source": [
    "### Combine the small categories into a single category named \"Other\""
   ]
  },
  {
   "cell_type": "code",
   "execution_count": 98,
   "metadata": {},
   "outputs": [
    {
     "data": {
      "text/html": [
       "<div>\n",
       "<style scoped>\n",
       "    .dataframe tbody tr th:only-of-type {\n",
       "        vertical-align: middle;\n",
       "    }\n",
       "\n",
       "    .dataframe tbody tr th {\n",
       "        vertical-align: top;\n",
       "    }\n",
       "\n",
       "    .dataframe thead th {\n",
       "        text-align: right;\n",
       "    }\n",
       "</style>\n",
       "<table border=\"1\" class=\"dataframe\">\n",
       "  <thead>\n",
       "    <tr style=\"text-align: right;\">\n",
       "      <th></th>\n",
       "      <th>ID</th>\n",
       "      <th>Gender</th>\n",
       "      <th>Age</th>\n",
       "      <th>Region_Code</th>\n",
       "      <th>Occupation</th>\n",
       "      <th>Channel_Code</th>\n",
       "      <th>Vintage</th>\n",
       "      <th>Credit_Product</th>\n",
       "      <th>Avg_Account_Balance</th>\n",
       "      <th>Is_Active</th>\n",
       "      <th>Is_Lead</th>\n",
       "    </tr>\n",
       "  </thead>\n",
       "  <tbody>\n",
       "    <tr>\n",
       "      <th>0</th>\n",
       "      <td>NNVBBKZB</td>\n",
       "      <td>Female</td>\n",
       "      <td>73</td>\n",
       "      <td>RG268</td>\n",
       "      <td>Other</td>\n",
       "      <td>X3</td>\n",
       "      <td>43</td>\n",
       "      <td>No</td>\n",
       "      <td>1045696</td>\n",
       "      <td>No</td>\n",
       "      <td>0</td>\n",
       "    </tr>\n",
       "    <tr>\n",
       "      <th>1</th>\n",
       "      <td>IDD62UNG</td>\n",
       "      <td>Female</td>\n",
       "      <td>30</td>\n",
       "      <td>RG277</td>\n",
       "      <td>Salaried</td>\n",
       "      <td>X1</td>\n",
       "      <td>32</td>\n",
       "      <td>No</td>\n",
       "      <td>581988</td>\n",
       "      <td>No</td>\n",
       "      <td>0</td>\n",
       "    </tr>\n",
       "    <tr>\n",
       "      <th>2</th>\n",
       "      <td>HD3DSEMC</td>\n",
       "      <td>Female</td>\n",
       "      <td>56</td>\n",
       "      <td>RG268</td>\n",
       "      <td>Self_Employed</td>\n",
       "      <td>X3</td>\n",
       "      <td>26</td>\n",
       "      <td>No</td>\n",
       "      <td>1484315</td>\n",
       "      <td>Yes</td>\n",
       "      <td>0</td>\n",
       "    </tr>\n",
       "    <tr>\n",
       "      <th>3</th>\n",
       "      <td>BF3NC7KV</td>\n",
       "      <td>Male</td>\n",
       "      <td>34</td>\n",
       "      <td>RG270</td>\n",
       "      <td>Salaried</td>\n",
       "      <td>X1</td>\n",
       "      <td>19</td>\n",
       "      <td>No</td>\n",
       "      <td>470454</td>\n",
       "      <td>No</td>\n",
       "      <td>0</td>\n",
       "    </tr>\n",
       "    <tr>\n",
       "      <th>4</th>\n",
       "      <td>TEASRWXV</td>\n",
       "      <td>Female</td>\n",
       "      <td>30</td>\n",
       "      <td>RG282</td>\n",
       "      <td>Salaried</td>\n",
       "      <td>X1</td>\n",
       "      <td>33</td>\n",
       "      <td>No</td>\n",
       "      <td>886787</td>\n",
       "      <td>No</td>\n",
       "      <td>0</td>\n",
       "    </tr>\n",
       "  </tbody>\n",
       "</table>\n",
       "</div>"
      ],
      "text/plain": [
       "         ID  Gender  Age Region_Code     Occupation Channel_Code  Vintage  \\\n",
       "0  NNVBBKZB  Female   73       RG268          Other           X3       43   \n",
       "1  IDD62UNG  Female   30       RG277       Salaried           X1       32   \n",
       "2  HD3DSEMC  Female   56       RG268  Self_Employed           X3       26   \n",
       "3  BF3NC7KV    Male   34       RG270       Salaried           X1       19   \n",
       "4  TEASRWXV  Female   30       RG282       Salaried           X1       33   \n",
       "\n",
       "  Credit_Product  Avg_Account_Balance Is_Active  Is_Lead  \n",
       "0             No              1045696        No        0  \n",
       "1             No               581988        No        0  \n",
       "2             No              1484315       Yes        0  \n",
       "3             No               470454        No        0  \n",
       "4             No               886787        No        0  "
      ]
     },
     "execution_count": 98,
     "metadata": {},
     "output_type": "execute_result"
    }
   ],
   "source": [
    "df.head()"
   ]
  },
  {
   "cell_type": "code",
   "execution_count": 62,
   "metadata": {},
   "outputs": [
    {
     "name": "stdout",
     "output_type": "stream",
     "text": [
      "<class 'pandas.core.frame.DataFrame'>\n",
      "RangeIndex: 245725 entries, 0 to 245724\n",
      "Data columns (total 11 columns):\n",
      " #   Column               Non-Null Count   Dtype \n",
      "---  ------               --------------   ----- \n",
      " 0   ID                   245725 non-null  object\n",
      " 1   Gender               245725 non-null  object\n",
      " 2   Age                  245725 non-null  int64 \n",
      " 3   Region_Code          245725 non-null  object\n",
      " 4   Occupation           245725 non-null  object\n",
      " 5   Channel_Code         245725 non-null  object\n",
      " 6   Vintage              245725 non-null  int64 \n",
      " 7   Credit_Product       216400 non-null  object\n",
      " 8   Avg_Account_Balance  245725 non-null  int64 \n",
      " 9   Is_Active            245725 non-null  object\n",
      " 10  Is_Lead              245725 non-null  int64 \n",
      "dtypes: int64(4), object(7)\n",
      "memory usage: 20.6+ MB\n"
     ]
    }
   ],
   "source": [
    "df.info()"
   ]
  },
  {
   "cell_type": "code",
   "execution_count": 288,
   "metadata": {
    "scrolled": true
   },
   "outputs": [
    {
     "name": "stdout",
     "output_type": "stream",
     "text": [
      "Occupation\n",
      "Index(['Entrepreneur', 'Other', 'Salaried', 'Self_Employed'], dtype='object')\n",
      "---------------------------------\n",
      "Self_Employed    0.410565\n",
      "Salaried         0.293006\n",
      "Other            0.285575\n",
      "Entrepreneur     0.010854\n",
      "Name: Occupation, dtype: float64\n",
      "Smaller categories with less than 10% ocurances\n",
      "CategoricalIndex(['Entrepreneur'], categories=['Entrepreneur', 'Other', 'Salaried', 'Self_Employed'], ordered=False, dtype='category')\n",
      "########################################\n",
      "Channel_Code\n",
      "Index(['X1', 'X2', 'X3', 'X4'], dtype='object')\n",
      "---------------------------------\n",
      "X1    0.422090\n",
      "X3    0.279630\n",
      "X2    0.275617\n",
      "X4    0.022664\n",
      "Name: Channel_Code, dtype: float64\n",
      "Smaller categories with less than 10% ocurances\n",
      "CategoricalIndex(['X4'], categories=['X1', 'X2', 'X3', 'X4'], ordered=False, dtype='category')\n",
      "########################################\n",
      "Region_Code\n",
      "Index(['RG250', 'RG251', 'RG252', 'RG253', 'RG254', 'RG255', 'RG256', 'RG257',\n",
      "       'RG258', 'RG259', 'RG260', 'RG261', 'RG262', 'RG263', 'RG264', 'RG265',\n",
      "       'RG266', 'RG267', 'RG268', 'RG269', 'RG270', 'RG271', 'RG272', 'RG273',\n",
      "       'RG274', 'RG275', 'RG276', 'RG277', 'RG278', 'RG279', 'RG280', 'RG281',\n",
      "       'RG282', 'RG283', 'RG284'],\n",
      "      dtype='object')\n",
      "---------------------------------\n",
      "RG268    0.146237\n",
      "RG283    0.119711\n",
      "RG254    0.109228\n",
      "RG284    0.078624\n",
      "RG277    0.052197\n",
      "RG280    0.051989\n",
      "RG269    0.031999\n",
      "RG270    0.031417\n",
      "RG261    0.031063\n",
      "RG257    0.024829\n",
      "RG251    0.024214\n",
      "RG282    0.023722\n",
      "RG274    0.021512\n",
      "RG272    0.021373\n",
      "RG281    0.020726\n",
      "RG273    0.018301\n",
      "RG252    0.017442\n",
      "RG279    0.016181\n",
      "RG263    0.015005\n",
      "RG275    0.013206\n",
      "RG260    0.012656\n",
      "RG256    0.011586\n",
      "RG264    0.011366\n",
      "RG276    0.011248\n",
      "RG259    0.010524\n",
      "RG250    0.010158\n",
      "RG255    0.008212\n",
      "RG258    0.007940\n",
      "RG253    0.007561\n",
      "RG278    0.007415\n",
      "RG262    0.007276\n",
      "RG266    0.006422\n",
      "RG265    0.006292\n",
      "RG271    0.006275\n",
      "RG267    0.006092\n",
      "Name: Region_Code, dtype: float64\n",
      "Smaller categories with less than 10% ocurances\n",
      "CategoricalIndex(['RG284', 'RG277', 'RG280', 'RG269', 'RG270', 'RG261',\n",
      "                  'RG257', 'RG251', 'RG282', 'RG274', 'RG272', 'RG281',\n",
      "                  'RG273', 'RG252', 'RG279', 'RG263', 'RG275', 'RG260',\n",
      "                  'RG256', 'RG264', 'RG276', 'RG259', 'RG250', 'RG255',\n",
      "                  'RG258', 'RG253', 'RG278', 'RG262', 'RG266', 'RG265',\n",
      "                  'RG271', 'RG267'],\n",
      "                 categories=['RG250', 'RG251', 'RG252', 'RG253', 'RG254', 'RG255', 'RG256', 'RG257', ...], ordered=False, dtype='category')\n",
      "########################################\n",
      "Credit_Product\n",
      "Index(['No', 'Yes'], dtype='object')\n",
      "---------------------------------\n",
      "No     0.667084\n",
      "Yes    0.332916\n",
      "Name: Credit_Product, dtype: float64\n",
      "Smaller categories with less than 10% ocurances\n",
      "CategoricalIndex([], categories=['No', 'Yes'], ordered=False, dtype='category')\n",
      "########################################\n",
      "Is_Active\n",
      "Index(['No', 'Yes'], dtype='object')\n",
      "---------------------------------\n",
      "No     0.611619\n",
      "Yes    0.388381\n",
      "Name: Is_Active, dtype: float64\n",
      "Smaller categories with less than 10% ocurances\n",
      "CategoricalIndex([], categories=['No', 'Yes'], ordered=False, dtype='category')\n",
      "########################################\n"
     ]
    }
   ],
   "source": [
    "df = credit.copy()\n",
    "\n",
    "def freq_count_catag(col):\n",
    "    # Step 1: count the frequencies\n",
    "    df[col] = df[col].astype(\"category\")\n",
    "    frequencies = df[col].value_counts(normalize = True)\n",
    "    print(col)\n",
    "    print(df[col].cat.categories)\n",
    "    print(\"---------------------------------\")\n",
    "\n",
    "    print(frequencies)\n",
    "\n",
    "    # Step 2: establish your threshold and filter the smaller categories\n",
    "    threshold = 0.1\n",
    "    small_categories = frequencies[frequencies < threshold].index\n",
    "    print(\"Smaller categories with less than 10% ocurances\")\n",
    "\n",
    "    print(small_categories)\n",
    "    print(\"########################################\")\n",
    "    \n",
    "freq_count_catag(\"Occupation\")\n",
    "freq_count_catag(\"Channel_Code\")\n",
    "freq_count_catag(\"Region_Code\")\n",
    "freq_count_catag(\"Credit_Product\")\n",
    "freq_count_catag(\"Is_Active\")"
   ]
  },
  {
   "cell_type": "code",
   "execution_count": 289,
   "metadata": {},
   "outputs": [],
   "source": [
    "\n",
    "Reg_top9=[x for x in df.Region_Code.value_counts().sort_values(ascending=False).head(7).index]"
   ]
  },
  {
   "cell_type": "code",
   "execution_count": 290,
   "metadata": {},
   "outputs": [
    {
     "data": {
      "text/plain": [
       "['RG268', 'RG283', 'RG254', 'RG284', 'RG277', 'RG280', 'RG269']"
      ]
     },
     "execution_count": 290,
     "metadata": {},
     "output_type": "execute_result"
    }
   ],
   "source": [
    "Reg_top9"
   ]
  },
  {
   "cell_type": "code",
   "execution_count": 291,
   "metadata": {},
   "outputs": [
    {
     "data": {
      "text/html": [
       "<div>\n",
       "<style scoped>\n",
       "    .dataframe tbody tr th:only-of-type {\n",
       "        vertical-align: middle;\n",
       "    }\n",
       "\n",
       "    .dataframe tbody tr th {\n",
       "        vertical-align: top;\n",
       "    }\n",
       "\n",
       "    .dataframe thead th {\n",
       "        text-align: right;\n",
       "    }\n",
       "</style>\n",
       "<table border=\"1\" class=\"dataframe\">\n",
       "  <thead>\n",
       "    <tr style=\"text-align: right;\">\n",
       "      <th></th>\n",
       "      <th>Region_Code</th>\n",
       "      <th>RG268</th>\n",
       "      <th>RG283</th>\n",
       "      <th>RG254</th>\n",
       "      <th>RG284</th>\n",
       "      <th>RG277</th>\n",
       "      <th>RG280</th>\n",
       "      <th>RG269</th>\n",
       "    </tr>\n",
       "  </thead>\n",
       "  <tbody>\n",
       "    <tr>\n",
       "      <th>0</th>\n",
       "      <td>RG268</td>\n",
       "      <td>1</td>\n",
       "      <td>0</td>\n",
       "      <td>0</td>\n",
       "      <td>0</td>\n",
       "      <td>0</td>\n",
       "      <td>0</td>\n",
       "      <td>0</td>\n",
       "    </tr>\n",
       "    <tr>\n",
       "      <th>1</th>\n",
       "      <td>RG277</td>\n",
       "      <td>0</td>\n",
       "      <td>0</td>\n",
       "      <td>0</td>\n",
       "      <td>0</td>\n",
       "      <td>1</td>\n",
       "      <td>0</td>\n",
       "      <td>0</td>\n",
       "    </tr>\n",
       "    <tr>\n",
       "      <th>2</th>\n",
       "      <td>RG268</td>\n",
       "      <td>1</td>\n",
       "      <td>0</td>\n",
       "      <td>0</td>\n",
       "      <td>0</td>\n",
       "      <td>0</td>\n",
       "      <td>0</td>\n",
       "      <td>0</td>\n",
       "    </tr>\n",
       "    <tr>\n",
       "      <th>3</th>\n",
       "      <td>RG270</td>\n",
       "      <td>0</td>\n",
       "      <td>0</td>\n",
       "      <td>0</td>\n",
       "      <td>0</td>\n",
       "      <td>0</td>\n",
       "      <td>0</td>\n",
       "      <td>0</td>\n",
       "    </tr>\n",
       "    <tr>\n",
       "      <th>4</th>\n",
       "      <td>RG282</td>\n",
       "      <td>0</td>\n",
       "      <td>0</td>\n",
       "      <td>0</td>\n",
       "      <td>0</td>\n",
       "      <td>0</td>\n",
       "      <td>0</td>\n",
       "      <td>0</td>\n",
       "    </tr>\n",
       "    <tr>\n",
       "      <th>5</th>\n",
       "      <td>RG261</td>\n",
       "      <td>0</td>\n",
       "      <td>0</td>\n",
       "      <td>0</td>\n",
       "      <td>0</td>\n",
       "      <td>0</td>\n",
       "      <td>0</td>\n",
       "      <td>0</td>\n",
       "    </tr>\n",
       "    <tr>\n",
       "      <th>6</th>\n",
       "      <td>RG282</td>\n",
       "      <td>0</td>\n",
       "      <td>0</td>\n",
       "      <td>0</td>\n",
       "      <td>0</td>\n",
       "      <td>0</td>\n",
       "      <td>0</td>\n",
       "      <td>0</td>\n",
       "    </tr>\n",
       "    <tr>\n",
       "      <th>7</th>\n",
       "      <td>RG265</td>\n",
       "      <td>0</td>\n",
       "      <td>0</td>\n",
       "      <td>0</td>\n",
       "      <td>0</td>\n",
       "      <td>0</td>\n",
       "      <td>0</td>\n",
       "      <td>0</td>\n",
       "    </tr>\n",
       "    <tr>\n",
       "      <th>8</th>\n",
       "      <td>RG283</td>\n",
       "      <td>0</td>\n",
       "      <td>1</td>\n",
       "      <td>0</td>\n",
       "      <td>0</td>\n",
       "      <td>0</td>\n",
       "      <td>0</td>\n",
       "      <td>0</td>\n",
       "    </tr>\n",
       "    <tr>\n",
       "      <th>9</th>\n",
       "      <td>RG268</td>\n",
       "      <td>1</td>\n",
       "      <td>0</td>\n",
       "      <td>0</td>\n",
       "      <td>0</td>\n",
       "      <td>0</td>\n",
       "      <td>0</td>\n",
       "      <td>0</td>\n",
       "    </tr>\n",
       "  </tbody>\n",
       "</table>\n",
       "</div>"
      ],
      "text/plain": [
       "  Region_Code  RG268  RG283  RG254  RG284  RG277  RG280  RG269\n",
       "0       RG268      1      0      0      0      0      0      0\n",
       "1       RG277      0      0      0      0      1      0      0\n",
       "2       RG268      1      0      0      0      0      0      0\n",
       "3       RG270      0      0      0      0      0      0      0\n",
       "4       RG282      0      0      0      0      0      0      0\n",
       "5       RG261      0      0      0      0      0      0      0\n",
       "6       RG282      0      0      0      0      0      0      0\n",
       "7       RG265      0      0      0      0      0      0      0\n",
       "8       RG283      0      1      0      0      0      0      0\n",
       "9       RG268      1      0      0      0      0      0      0"
      ]
     },
     "execution_count": 291,
     "metadata": {},
     "output_type": "execute_result"
    }
   ],
   "source": [
    "\n",
    "for label in Reg_top9:\n",
    "    df[label]=np.where(df[\"Region_Code\"]==label, 1, 0)\n",
    "    \n",
    "df[[\"Region_Code\"]+Reg_top9].head(10)"
   ]
  },
  {
   "cell_type": "code",
   "execution_count": 292,
   "metadata": {},
   "outputs": [
    {
     "name": "stdout",
     "output_type": "stream",
     "text": [
      "['X1', 'X3', 'X2']\n"
     ]
    },
    {
     "data": {
      "text/html": [
       "<div>\n",
       "<style scoped>\n",
       "    .dataframe tbody tr th:only-of-type {\n",
       "        vertical-align: middle;\n",
       "    }\n",
       "\n",
       "    .dataframe tbody tr th {\n",
       "        vertical-align: top;\n",
       "    }\n",
       "\n",
       "    .dataframe thead th {\n",
       "        text-align: right;\n",
       "    }\n",
       "</style>\n",
       "<table border=\"1\" class=\"dataframe\">\n",
       "  <thead>\n",
       "    <tr style=\"text-align: right;\">\n",
       "      <th></th>\n",
       "      <th>Channel_Code</th>\n",
       "      <th>X1</th>\n",
       "      <th>X3</th>\n",
       "      <th>X2</th>\n",
       "    </tr>\n",
       "  </thead>\n",
       "  <tbody>\n",
       "    <tr>\n",
       "      <th>0</th>\n",
       "      <td>X3</td>\n",
       "      <td>0</td>\n",
       "      <td>1</td>\n",
       "      <td>0</td>\n",
       "    </tr>\n",
       "    <tr>\n",
       "      <th>1</th>\n",
       "      <td>X1</td>\n",
       "      <td>1</td>\n",
       "      <td>0</td>\n",
       "      <td>0</td>\n",
       "    </tr>\n",
       "    <tr>\n",
       "      <th>2</th>\n",
       "      <td>X3</td>\n",
       "      <td>0</td>\n",
       "      <td>1</td>\n",
       "      <td>0</td>\n",
       "    </tr>\n",
       "    <tr>\n",
       "      <th>3</th>\n",
       "      <td>X1</td>\n",
       "      <td>1</td>\n",
       "      <td>0</td>\n",
       "      <td>0</td>\n",
       "    </tr>\n",
       "    <tr>\n",
       "      <th>4</th>\n",
       "      <td>X1</td>\n",
       "      <td>1</td>\n",
       "      <td>0</td>\n",
       "      <td>0</td>\n",
       "    </tr>\n",
       "    <tr>\n",
       "      <th>5</th>\n",
       "      <td>X1</td>\n",
       "      <td>1</td>\n",
       "      <td>0</td>\n",
       "      <td>0</td>\n",
       "    </tr>\n",
       "    <tr>\n",
       "      <th>6</th>\n",
       "      <td>X3</td>\n",
       "      <td>0</td>\n",
       "      <td>1</td>\n",
       "      <td>0</td>\n",
       "    </tr>\n",
       "    <tr>\n",
       "      <th>7</th>\n",
       "      <td>X3</td>\n",
       "      <td>0</td>\n",
       "      <td>1</td>\n",
       "      <td>0</td>\n",
       "    </tr>\n",
       "    <tr>\n",
       "      <th>8</th>\n",
       "      <td>X2</td>\n",
       "      <td>0</td>\n",
       "      <td>0</td>\n",
       "      <td>1</td>\n",
       "    </tr>\n",
       "    <tr>\n",
       "      <th>9</th>\n",
       "      <td>X2</td>\n",
       "      <td>0</td>\n",
       "      <td>0</td>\n",
       "      <td>1</td>\n",
       "    </tr>\n",
       "  </tbody>\n",
       "</table>\n",
       "</div>"
      ],
      "text/plain": [
       "  Channel_Code  X1  X3  X2\n",
       "0           X3   0   1   0\n",
       "1           X1   1   0   0\n",
       "2           X3   0   1   0\n",
       "3           X1   1   0   0\n",
       "4           X1   1   0   0\n",
       "5           X1   1   0   0\n",
       "6           X3   0   1   0\n",
       "7           X3   0   1   0\n",
       "8           X2   0   0   1\n",
       "9           X2   0   0   1"
      ]
     },
     "execution_count": 292,
     "metadata": {},
     "output_type": "execute_result"
    }
   ],
   "source": [
    "Xcat=[x for x in df.Channel_Code.value_counts().sort_values(ascending=False).head(3).index]\n",
    "print(Xcat)\n",
    "for label in Xcat:\n",
    "    df[label]=np.where(df[\"Channel_Code\"]==label, 1, 0)\n",
    "    \n",
    "df[[\"Channel_Code\"]+Xcat].head(10)"
   ]
  },
  {
   "cell_type": "code",
   "execution_count": null,
   "metadata": {},
   "outputs": [],
   "source": []
  },
  {
   "cell_type": "code",
   "execution_count": 293,
   "metadata": {},
   "outputs": [
    {
     "name": "stdout",
     "output_type": "stream",
     "text": [
      "Is_Lead\n",
      "Int64Index([0, 1], dtype='int64')\n",
      "---------------------------------\n",
      "0    0.762792\n",
      "1    0.237208\n",
      "Name: Is_Lead, dtype: float64\n",
      "Smaller categories with less than 10% ocurances\n",
      "CategoricalIndex([], categories=[0, 1], ordered=False, dtype='category')\n",
      "########################################\n"
     ]
    }
   ],
   "source": [
    "freq_count_catag(\"Is_Lead\")"
   ]
  },
  {
   "cell_type": "markdown",
   "metadata": {},
   "source": [
    "###  Count the missing values "
   ]
  },
  {
   "cell_type": "code",
   "execution_count": 101,
   "metadata": {
    "collapsed": true
   },
   "outputs": [
    {
     "name": "stdout",
     "output_type": "stream",
     "text": [
      "Total Nan in all clolumns\n",
      "29325 \n",
      "\n",
      "\n",
      "Column wise nan\n",
      "ID                         0\n",
      "Gender                     0\n",
      "Age                        0\n",
      "Region_Code                0\n",
      "Occupation                 0\n",
      "Channel_Code               0\n",
      "Vintage                    0\n",
      "Credit_Product         29325\n",
      "Avg_Account_Balance        0\n",
      "Is_Active                  0\n",
      "Is_Lead                    0\n",
      "dtype: int64 \n",
      "\n",
      "\n",
      "df.isna().any()\n",
      "\n",
      "ID                     False\n",
      "Gender                 False\n",
      "Age                    False\n",
      "Region_Code            False\n",
      "Occupation             False\n",
      "Channel_Code           False\n",
      "Vintage                False\n",
      "Credit_Product          True\n",
      "Avg_Account_Balance    False\n",
      "Is_Active              False\n",
      "Is_Lead                False\n",
      "dtype: bool \n",
      "\n",
      "\n"
     ]
    },
    {
     "data": {
      "text/plain": [
       "True"
      ]
     },
     "execution_count": 101,
     "metadata": {},
     "output_type": "execute_result"
    }
   ],
   "source": [
    "print('Total Nan in all clolumns')\n",
    "print(df.isnull().sum().sum(), \"\\n\\n\")\n",
    "\n",
    "# Solution 2\n",
    "print('Column wise nan')\n",
    "print(df.isna().sum(), \"\\n\\n\")\n",
    "\n",
    "# Solution 3\n",
    "print('df.isna().any()\\n')\n",
    "print(df.isna().any(), \"\\n\\n\")\n",
    "\n",
    "# Solution 4:\n",
    "df.isna().any(axis = None)"
   ]
  },
  {
   "cell_type": "markdown",
   "metadata": {},
   "source": [
    "## Count the Number of NAN in test data set"
   ]
  },
  {
   "cell_type": "code",
   "execution_count": 46,
   "metadata": {},
   "outputs": [
    {
     "name": "stdout",
     "output_type": "stream",
     "text": [
      "ID                     False\n",
      "Gender                 False\n",
      "Age                    False\n",
      "Region_Code            False\n",
      "Occupation             False\n",
      "Channel_Code           False\n",
      "Vintage                False\n",
      "Credit_Product          True\n",
      "Avg_Account_Balance    False\n",
      "Is_Active              False\n",
      "Is_Lead                False\n",
      "dtype: bool \n",
      "\n",
      "\n",
      "ID                         0\n",
      "Gender                     0\n",
      "Age                        0\n",
      "Region_Code                0\n",
      "Occupation                 0\n",
      "Channel_Code               0\n",
      "Vintage                    0\n",
      "Credit_Product         12522\n",
      "Avg_Account_Balance        0\n",
      "Is_Active                  0\n",
      "dtype: int64 \n",
      "\n",
      "\n"
     ]
    },
    {
     "data": {
      "text/plain": [
       "True"
      ]
     },
     "execution_count": 46,
     "metadata": {},
     "output_type": "execute_result"
    }
   ],
   "source": [
    "credit_test = pd.read_csv('test_mSzZ8RL.csv')\n",
    "print(df.isna().any(), \"\\n\\n\")\n",
    "print(credit_test.isna().sum(), \"\\n\\n\")\n",
    "# Solution 4:\n",
    "credit_test.isna().any(axis = None)"
   ]
  },
  {
   "cell_type": "code",
   "execution_count": null,
   "metadata": {},
   "outputs": [],
   "source": []
  },
  {
   "cell_type": "code",
   "execution_count": 297,
   "metadata": {},
   "outputs": [
    {
     "name": "stdout",
     "output_type": "stream",
     "text": [
      "<class 'pandas.core.frame.DataFrame'>\n",
      "RangeIndex: 245725 entries, 0 to 245724\n",
      "Data columns (total 21 columns):\n",
      " #   Column               Non-Null Count   Dtype   \n",
      "---  ------               --------------   -----   \n",
      " 0   ID                   245725 non-null  object  \n",
      " 1   Gender               245725 non-null  int64   \n",
      " 2   Age                  245725 non-null  int64   \n",
      " 3   Region_Code          245725 non-null  category\n",
      " 4   Occupation           245725 non-null  category\n",
      " 5   Channel_Code         245725 non-null  category\n",
      " 6   Vintage              245725 non-null  int64   \n",
      " 7   Credit_Product       216400 non-null  category\n",
      " 8   Avg_Account_Balance  245725 non-null  int64   \n",
      " 9   Is_Active            245725 non-null  category\n",
      " 10  Is_Lead              245725 non-null  category\n",
      " 11  RG268                245725 non-null  int32   \n",
      " 12  RG283                245725 non-null  int32   \n",
      " 13  RG254                245725 non-null  int32   \n",
      " 14  RG284                245725 non-null  int32   \n",
      " 15  RG277                245725 non-null  int32   \n",
      " 16  RG280                245725 non-null  int32   \n",
      " 17  RG269                245725 non-null  int32   \n",
      " 18  X1                   245725 non-null  int32   \n",
      " 19  X3                   245725 non-null  int32   \n",
      " 20  X2                   245725 non-null  int32   \n",
      "dtypes: category(6), int32(10), int64(4), object(1)\n",
      "memory usage: 20.2+ MB\n"
     ]
    }
   ],
   "source": [
    "df.info()"
   ]
  },
  {
   "cell_type": "markdown",
   "metadata": {},
   "source": [
    "## Convert one type of values to others <a class=\"anchor\" id=\"4.4\"></a>"
   ]
  },
  {
   "cell_type": "code",
   "execution_count": 295,
   "metadata": {},
   "outputs": [],
   "source": [
    "\n",
    "df[\"Gender\"] = df[\"Gender\"].map({\"Male\":1, \"Female\":0}) # using dictionaries to map values\n",
    "df[\"Occupation\"] = df[\"Occupation\"].map({'Other':0, 'Salaried':1, 'Self_Employed':2,'Entrepreneur':3}) # 'Other':0, 'Salaried':1, 'Self_Employed':2,'Entrepreneur':3, \n",
    "df[\"Credit_Product\"] = df[\"Credit_Product\"].map({\"Yes\":1, \"No\":0}) # using dictionaries to map values\n",
    "df[\"Is_Active\"] = df[\"Is_Active\"].map({\"Yes\":1, \"No\":0}) # using \n"
   ]
  },
  {
   "cell_type": "code",
   "execution_count": 299,
   "metadata": {},
   "outputs": [
    {
     "name": "stderr",
     "output_type": "stream",
     "text": [
      "<ipython-input-299-139fd945b335>:2: SettingWithCopyWarning: \n",
      "A value is trying to be set on a copy of a slice from a DataFrame.\n",
      "Try using .loc[row_indexer,col_indexer] = value instead\n",
      "\n",
      "See the caveats in the documentation: https://pandas.pydata.org/pandas-docs/stable/user_guide/indexing.html#returning-a-view-versus-a-copy\n",
      "  df_nan_train[i] = df_nan_train[i].astype('int')\n",
      "<ipython-input-299-139fd945b335>:3: SettingWithCopyWarning: \n",
      "A value is trying to be set on a copy of a slice from a DataFrame.\n",
      "Try using .loc[row_indexer,col_indexer] = value instead\n",
      "\n",
      "See the caveats in the documentation: https://pandas.pydata.org/pandas-docs/stable/user_guide/indexing.html#returning-a-view-versus-a-copy\n",
      "  df_nan_test[i] = df_nan_test[i].astype('int')\n"
     ]
    }
   ],
   "source": [
    "\n",
    "for i in [\"Occupation\",\"Is_Active\"]:\n",
    "        df_nan_train[i] = df_nan_train[i].astype('int')\n",
    "        df_nan_test[i] = df_nan_test[i].astype('int')"
   ]
  },
  {
   "cell_type": "markdown",
   "metadata": {},
   "source": [
    "### check the dependency of Credit_Product with other fetures and then perform Machine  learning algorithm to fill other nan values of Credit_Product column"
   ]
  },
  {
   "cell_type": "code",
   "execution_count": 300,
   "metadata": {},
   "outputs": [],
   "source": [
    "df_nan_test=df[df.isna().any(axis=1)]# data with nan into test set"
   ]
  },
  {
   "cell_type": "code",
   "execution_count": 301,
   "metadata": {},
   "outputs": [],
   "source": [
    "\n",
    "df_nan_train=df.dropna(axis=0)#data with out nan as train set"
   ]
  },
  {
   "cell_type": "code",
   "execution_count": 304,
   "metadata": {},
   "outputs": [
    {
     "name": "stdout",
     "output_type": "stream",
     "text": [
      "<class 'pandas.core.frame.DataFrame'>\n",
      "Int64Index: 216400 entries, 0 to 245724\n",
      "Data columns (total 21 columns):\n",
      " #   Column               Non-Null Count   Dtype   \n",
      "---  ------               --------------   -----   \n",
      " 0   ID                   216400 non-null  object  \n",
      " 1   Gender               216400 non-null  int64   \n",
      " 2   Age                  216400 non-null  int64   \n",
      " 3   Region_Code          216400 non-null  category\n",
      " 4   Occupation           216400 non-null  int32   \n",
      " 5   Channel_Code         216400 non-null  category\n",
      " 6   Vintage              216400 non-null  int64   \n",
      " 7   Credit_Product       216400 non-null  category\n",
      " 8   Avg_Account_Balance  216400 non-null  int64   \n",
      " 9   Is_Active            216400 non-null  int32   \n",
      " 10  Is_Lead              216400 non-null  category\n",
      " 11  RG268                216400 non-null  int32   \n",
      " 12  RG283                216400 non-null  int32   \n",
      " 13  RG254                216400 non-null  int32   \n",
      " 14  RG284                216400 non-null  int32   \n",
      " 15  RG277                216400 non-null  int32   \n",
      " 16  RG280                216400 non-null  int32   \n",
      " 17  RG269                216400 non-null  int32   \n",
      " 18  X1                   216400 non-null  int32   \n",
      " 19  X3                   216400 non-null  int32   \n",
      " 20  X2                   216400 non-null  int32   \n",
      "dtypes: category(4), int32(12), int64(4), object(1)\n",
      "memory usage: 20.6+ MB\n"
     ]
    }
   ],
   "source": [
    "df_nan_train.info()"
   ]
  },
  {
   "cell_type": "code",
   "execution_count": 303,
   "metadata": {},
   "outputs": [
    {
     "name": "stderr",
     "output_type": "stream",
     "text": [
      "<ipython-input-303-139fd945b335>:2: SettingWithCopyWarning: \n",
      "A value is trying to be set on a copy of a slice from a DataFrame.\n",
      "Try using .loc[row_indexer,col_indexer] = value instead\n",
      "\n",
      "See the caveats in the documentation: https://pandas.pydata.org/pandas-docs/stable/user_guide/indexing.html#returning-a-view-versus-a-copy\n",
      "  df_nan_train[i] = df_nan_train[i].astype('int')\n",
      "<ipython-input-303-139fd945b335>:3: SettingWithCopyWarning: \n",
      "A value is trying to be set on a copy of a slice from a DataFrame.\n",
      "Try using .loc[row_indexer,col_indexer] = value instead\n",
      "\n",
      "See the caveats in the documentation: https://pandas.pydata.org/pandas-docs/stable/user_guide/indexing.html#returning-a-view-versus-a-copy\n",
      "  df_nan_test[i] = df_nan_test[i].astype('int')\n"
     ]
    }
   ],
   "source": [
    "\n",
    "for i in [\"Occupation\",\"Is_Active\"]:\n",
    "        df_nan_train[i] = df_nan_train[i].astype('int')\n",
    "        df_nan_test[i] = df_nan_test[i].astype('int')"
   ]
  },
  {
   "cell_type": "code",
   "execution_count": null,
   "metadata": {},
   "outputs": [],
   "source": []
  },
  {
   "cell_type": "code",
   "execution_count": null,
   "metadata": {},
   "outputs": [],
   "source": []
  },
  {
   "cell_type": "markdown",
   "metadata": {},
   "source": [
    "### Applying Random forest classification algorithm to immpute nan values in Credit_Product column in dataset  "
   ]
  },
  {
   "cell_type": "code",
   "execution_count": 305,
   "metadata": {},
   "outputs": [],
   "source": [
    "y = df_nan_train.iloc[:, 7].values\n",
    "xx=df_nan_train.drop([\"ID\",\"Credit_Product\",\"Region_Code\",\"Channel_Code\",\"Is_Lead\"],axis=1)\n",
    "X = xx.iloc[:, :].values"
   ]
  },
  {
   "cell_type": "code",
   "execution_count": 306,
   "metadata": {},
   "outputs": [],
   "source": [
    "y=y.astype('int')"
   ]
  },
  {
   "cell_type": "markdown",
   "metadata": {},
   "source": [
    "### Splitting the dataset into the Training set and Test set"
   ]
  },
  {
   "cell_type": "code",
   "execution_count": 308,
   "metadata": {},
   "outputs": [],
   "source": [
    "from sklearn.model_selection import train_test_split\n",
    "\n",
    "\n",
    "X_train, X_test, y_train, y_test = train_test_split(X, y, test_size = 0.25, random_state = 0)"
   ]
  },
  {
   "cell_type": "markdown",
   "metadata": {},
   "source": [
    "### Training the Random Forest Classification model on the Training set\n"
   ]
  },
  {
   "cell_type": "code",
   "execution_count": 309,
   "metadata": {},
   "outputs": [
    {
     "data": {
      "text/plain": [
       "RandomForestClassifier(criterion='entropy', n_estimators=10, random_state=0)"
      ]
     },
     "execution_count": 309,
     "metadata": {},
     "output_type": "execute_result"
    }
   ],
   "source": [
    "from sklearn.ensemble import RandomForestClassifier\n",
    "classifier = RandomForestClassifier(n_estimators = 10, criterion = 'entropy', random_state = 0)\n",
    "classifier.fit(X_train, y_train)"
   ]
  },
  {
   "cell_type": "markdown",
   "metadata": {},
   "source": [
    "## Predicting a new result\n"
   ]
  },
  {
   "cell_type": "code",
   "execution_count": null,
   "metadata": {},
   "outputs": [],
   "source": []
  },
  {
   "cell_type": "markdown",
   "metadata": {},
   "source": [
    "## Predicting the Test set results"
   ]
  },
  {
   "cell_type": "code",
   "execution_count": 310,
   "metadata": {},
   "outputs": [
    {
     "name": "stdout",
     "output_type": "stream",
     "text": [
      "[[0 0]\n",
      " [0 0]\n",
      " [0 0]\n",
      " ...\n",
      " [1 0]\n",
      " [0 0]\n",
      " [0 1]]\n"
     ]
    }
   ],
   "source": [
    "y_pred = classifier.predict(X_test)\n",
    "print(np.concatenate((y_pred.reshape(len(y_pred),1), y_test.reshape(len(y_test),1)),1))"
   ]
  },
  {
   "cell_type": "markdown",
   "metadata": {},
   "source": [
    "## Making the Confusion Matrix of imputation model"
   ]
  },
  {
   "cell_type": "code",
   "execution_count": 311,
   "metadata": {},
   "outputs": [
    {
     "name": "stdout",
     "output_type": "stream",
     "text": [
      "[[29997  6082]\n",
      " [10785  7236]]\n"
     ]
    },
    {
     "data": {
      "text/plain": [
       "0.6882255083179297"
      ]
     },
     "execution_count": 311,
     "metadata": {},
     "output_type": "execute_result"
    }
   ],
   "source": [
    "from sklearn.metrics import confusion_matrix, accuracy_score\n",
    "cm = confusion_matrix(y_test, y_pred)\n",
    "print(cm)\n",
    "accuracy_score(y_test, y_pred)"
   ]
  },
  {
   "cell_type": "code",
   "execution_count": 212,
   "metadata": {},
   "outputs": [
    {
     "name": "stdout",
     "output_type": "stream",
     "text": [
      "<class 'pandas.core.frame.DataFrame'>\n",
      "Int64Index: 29325 entries, 6 to 245720\n",
      "Data columns (total 23 columns):\n",
      " #   Column               Non-Null Count  Dtype   \n",
      "---  ------               --------------  -----   \n",
      " 0   Gender               29325 non-null  int64   \n",
      " 1   Age                  29325 non-null  int32   \n",
      " 2   Region_Code          29325 non-null  category\n",
      " 3   Occupation           29325 non-null  int32   \n",
      " 4   Channel_Code         29325 non-null  category\n",
      " 5   Vintage              29325 non-null  int64   \n",
      " 6   Credit_Product       0 non-null      category\n",
      " 7   Avg_Account_Balance  29325 non-null  int64   \n",
      " 8   Is_Active            29325 non-null  int32   \n",
      " 9   RG268                29325 non-null  int32   \n",
      " 10  RG283                29325 non-null  int32   \n",
      " 11  RG254                29325 non-null  int32   \n",
      " 12  RG284                29325 non-null  int32   \n",
      " 13  RG277                29325 non-null  int32   \n",
      " 14  RG280                29325 non-null  int32   \n",
      " 15  RG269                29325 non-null  int32   \n",
      " 16  RG270                29325 non-null  int32   \n",
      " 17  RG261                29325 non-null  int32   \n",
      " 18  RG257                29325 non-null  int32   \n",
      " 19  X1                   29325 non-null  int32   \n",
      " 20  X3                   29325 non-null  int32   \n",
      " 21  X2                   29325 non-null  int32   \n",
      " 22  X4                   29325 non-null  int32   \n",
      "dtypes: category(3), int32(17), int64(3)\n",
      "memory usage: 2.9 MB\n"
     ]
    }
   ],
   "source": [
    "df_nan_test.info()"
   ]
  },
  {
   "cell_type": "code",
   "execution_count": 312,
   "metadata": {},
   "outputs": [],
   "source": [
    "\n",
    "X_testset1=df_nan_test.drop([\"ID\",\"Credit_Product\",\"Region_Code\",\"Channel_Code\",\"Is_Lead\"],axis=1)\n",
    "X_testset= X_testset1.iloc[:, :].values"
   ]
  },
  {
   "cell_type": "code",
   "execution_count": 313,
   "metadata": {},
   "outputs": [],
   "source": [
    "y_tset_pred = classifier.predict(X_testset)"
   ]
  },
  {
   "cell_type": "markdown",
   "metadata": {},
   "source": [
    "### concatenate train and test data after appending y predicted data for Credit_Product"
   ]
  },
  {
   "cell_type": "code",
   "execution_count": 314,
   "metadata": {},
   "outputs": [
    {
     "name": "stderr",
     "output_type": "stream",
     "text": [
      "<ipython-input-314-b40c4de97cbf>:1: SettingWithCopyWarning: \n",
      "A value is trying to be set on a copy of a slice from a DataFrame.\n",
      "Try using .loc[row_indexer,col_indexer] = value instead\n",
      "\n",
      "See the caveats in the documentation: https://pandas.pydata.org/pandas-docs/stable/user_guide/indexing.html#returning-a-view-versus-a-copy\n",
      "  df_nan_test[\"Credit_Product\"]=y_tset_pred\n"
     ]
    }
   ],
   "source": [
    "df_nan_test[\"Credit_Product\"]=y_tset_pred"
   ]
  },
  {
   "cell_type": "code",
   "execution_count": 315,
   "metadata": {},
   "outputs": [
    {
     "name": "stdout",
     "output_type": "stream",
     "text": [
      "<class 'pandas.core.frame.DataFrame'>\n",
      "Int64Index: 29325 entries, 6 to 245720\n",
      "Data columns (total 21 columns):\n",
      " #   Column               Non-Null Count  Dtype   \n",
      "---  ------               --------------  -----   \n",
      " 0   ID                   29325 non-null  object  \n",
      " 1   Gender               29325 non-null  int64   \n",
      " 2   Age                  29325 non-null  int64   \n",
      " 3   Region_Code          29325 non-null  category\n",
      " 4   Occupation           29325 non-null  int32   \n",
      " 5   Channel_Code         29325 non-null  category\n",
      " 6   Vintage              29325 non-null  int64   \n",
      " 7   Credit_Product       29325 non-null  int32   \n",
      " 8   Avg_Account_Balance  29325 non-null  int64   \n",
      " 9   Is_Active            29325 non-null  int32   \n",
      " 10  Is_Lead              29325 non-null  category\n",
      " 11  RG268                29325 non-null  int32   \n",
      " 12  RG283                29325 non-null  int32   \n",
      " 13  RG254                29325 non-null  int32   \n",
      " 14  RG284                29325 non-null  int32   \n",
      " 15  RG277                29325 non-null  int32   \n",
      " 16  RG280                29325 non-null  int32   \n",
      " 17  RG269                29325 non-null  int32   \n",
      " 18  X1                   29325 non-null  int32   \n",
      " 19  X3                   29325 non-null  int32   \n",
      " 20  X2                   29325 non-null  int32   \n",
      "dtypes: category(3), int32(13), int64(4), object(1)\n",
      "memory usage: 2.9+ MB\n"
     ]
    }
   ],
   "source": [
    "df_nan_test.info()"
   ]
  },
  {
   "cell_type": "code",
   "execution_count": 316,
   "metadata": {},
   "outputs": [
    {
     "data": {
      "text/html": [
       "<div>\n",
       "<style scoped>\n",
       "    .dataframe tbody tr th:only-of-type {\n",
       "        vertical-align: middle;\n",
       "    }\n",
       "\n",
       "    .dataframe tbody tr th {\n",
       "        vertical-align: top;\n",
       "    }\n",
       "\n",
       "    .dataframe thead th {\n",
       "        text-align: right;\n",
       "    }\n",
       "</style>\n",
       "<table border=\"1\" class=\"dataframe\">\n",
       "  <thead>\n",
       "    <tr style=\"text-align: right;\">\n",
       "      <th></th>\n",
       "      <th>ID</th>\n",
       "      <th>Gender</th>\n",
       "      <th>Age</th>\n",
       "      <th>Region_Code</th>\n",
       "      <th>Occupation</th>\n",
       "      <th>Channel_Code</th>\n",
       "      <th>Vintage</th>\n",
       "      <th>Credit_Product</th>\n",
       "      <th>Avg_Account_Balance</th>\n",
       "      <th>Is_Active</th>\n",
       "      <th>...</th>\n",
       "      <th>RG268</th>\n",
       "      <th>RG283</th>\n",
       "      <th>RG254</th>\n",
       "      <th>RG284</th>\n",
       "      <th>RG277</th>\n",
       "      <th>RG280</th>\n",
       "      <th>RG269</th>\n",
       "      <th>X1</th>\n",
       "      <th>X3</th>\n",
       "      <th>X2</th>\n",
       "    </tr>\n",
       "  </thead>\n",
       "  <tbody>\n",
       "    <tr>\n",
       "      <th>0</th>\n",
       "      <td>NNVBBKZB</td>\n",
       "      <td>0</td>\n",
       "      <td>73</td>\n",
       "      <td>RG268</td>\n",
       "      <td>0</td>\n",
       "      <td>X3</td>\n",
       "      <td>43</td>\n",
       "      <td>0</td>\n",
       "      <td>1045696</td>\n",
       "      <td>0</td>\n",
       "      <td>...</td>\n",
       "      <td>1</td>\n",
       "      <td>0</td>\n",
       "      <td>0</td>\n",
       "      <td>0</td>\n",
       "      <td>0</td>\n",
       "      <td>0</td>\n",
       "      <td>0</td>\n",
       "      <td>0</td>\n",
       "      <td>1</td>\n",
       "      <td>0</td>\n",
       "    </tr>\n",
       "    <tr>\n",
       "      <th>1</th>\n",
       "      <td>IDD62UNG</td>\n",
       "      <td>0</td>\n",
       "      <td>30</td>\n",
       "      <td>RG277</td>\n",
       "      <td>1</td>\n",
       "      <td>X1</td>\n",
       "      <td>32</td>\n",
       "      <td>0</td>\n",
       "      <td>581988</td>\n",
       "      <td>0</td>\n",
       "      <td>...</td>\n",
       "      <td>0</td>\n",
       "      <td>0</td>\n",
       "      <td>0</td>\n",
       "      <td>0</td>\n",
       "      <td>1</td>\n",
       "      <td>0</td>\n",
       "      <td>0</td>\n",
       "      <td>1</td>\n",
       "      <td>0</td>\n",
       "      <td>0</td>\n",
       "    </tr>\n",
       "    <tr>\n",
       "      <th>2</th>\n",
       "      <td>HD3DSEMC</td>\n",
       "      <td>0</td>\n",
       "      <td>56</td>\n",
       "      <td>RG268</td>\n",
       "      <td>2</td>\n",
       "      <td>X3</td>\n",
       "      <td>26</td>\n",
       "      <td>0</td>\n",
       "      <td>1484315</td>\n",
       "      <td>1</td>\n",
       "      <td>...</td>\n",
       "      <td>1</td>\n",
       "      <td>0</td>\n",
       "      <td>0</td>\n",
       "      <td>0</td>\n",
       "      <td>0</td>\n",
       "      <td>0</td>\n",
       "      <td>0</td>\n",
       "      <td>0</td>\n",
       "      <td>1</td>\n",
       "      <td>0</td>\n",
       "    </tr>\n",
       "    <tr>\n",
       "      <th>3</th>\n",
       "      <td>BF3NC7KV</td>\n",
       "      <td>1</td>\n",
       "      <td>34</td>\n",
       "      <td>RG270</td>\n",
       "      <td>1</td>\n",
       "      <td>X1</td>\n",
       "      <td>19</td>\n",
       "      <td>0</td>\n",
       "      <td>470454</td>\n",
       "      <td>0</td>\n",
       "      <td>...</td>\n",
       "      <td>0</td>\n",
       "      <td>0</td>\n",
       "      <td>0</td>\n",
       "      <td>0</td>\n",
       "      <td>0</td>\n",
       "      <td>0</td>\n",
       "      <td>0</td>\n",
       "      <td>1</td>\n",
       "      <td>0</td>\n",
       "      <td>0</td>\n",
       "    </tr>\n",
       "    <tr>\n",
       "      <th>4</th>\n",
       "      <td>TEASRWXV</td>\n",
       "      <td>0</td>\n",
       "      <td>30</td>\n",
       "      <td>RG282</td>\n",
       "      <td>1</td>\n",
       "      <td>X1</td>\n",
       "      <td>33</td>\n",
       "      <td>0</td>\n",
       "      <td>886787</td>\n",
       "      <td>0</td>\n",
       "      <td>...</td>\n",
       "      <td>0</td>\n",
       "      <td>0</td>\n",
       "      <td>0</td>\n",
       "      <td>0</td>\n",
       "      <td>0</td>\n",
       "      <td>0</td>\n",
       "      <td>0</td>\n",
       "      <td>1</td>\n",
       "      <td>0</td>\n",
       "      <td>0</td>\n",
       "    </tr>\n",
       "    <tr>\n",
       "      <th>...</th>\n",
       "      <td>...</td>\n",
       "      <td>...</td>\n",
       "      <td>...</td>\n",
       "      <td>...</td>\n",
       "      <td>...</td>\n",
       "      <td>...</td>\n",
       "      <td>...</td>\n",
       "      <td>...</td>\n",
       "      <td>...</td>\n",
       "      <td>...</td>\n",
       "      <td>...</td>\n",
       "      <td>...</td>\n",
       "      <td>...</td>\n",
       "      <td>...</td>\n",
       "      <td>...</td>\n",
       "      <td>...</td>\n",
       "      <td>...</td>\n",
       "      <td>...</td>\n",
       "      <td>...</td>\n",
       "      <td>...</td>\n",
       "      <td>...</td>\n",
       "    </tr>\n",
       "    <tr>\n",
       "      <th>245684</th>\n",
       "      <td>WVJFPREY</td>\n",
       "      <td>0</td>\n",
       "      <td>51</td>\n",
       "      <td>RG281</td>\n",
       "      <td>3</td>\n",
       "      <td>X3</td>\n",
       "      <td>99</td>\n",
       "      <td>1</td>\n",
       "      <td>552992</td>\n",
       "      <td>0</td>\n",
       "      <td>...</td>\n",
       "      <td>0</td>\n",
       "      <td>0</td>\n",
       "      <td>0</td>\n",
       "      <td>0</td>\n",
       "      <td>0</td>\n",
       "      <td>0</td>\n",
       "      <td>0</td>\n",
       "      <td>0</td>\n",
       "      <td>1</td>\n",
       "      <td>0</td>\n",
       "    </tr>\n",
       "    <tr>\n",
       "      <th>245694</th>\n",
       "      <td>WIZBXYQZ</td>\n",
       "      <td>0</td>\n",
       "      <td>50</td>\n",
       "      <td>RG277</td>\n",
       "      <td>2</td>\n",
       "      <td>X2</td>\n",
       "      <td>92</td>\n",
       "      <td>0</td>\n",
       "      <td>1385124</td>\n",
       "      <td>0</td>\n",
       "      <td>...</td>\n",
       "      <td>0</td>\n",
       "      <td>0</td>\n",
       "      <td>0</td>\n",
       "      <td>0</td>\n",
       "      <td>1</td>\n",
       "      <td>0</td>\n",
       "      <td>0</td>\n",
       "      <td>0</td>\n",
       "      <td>0</td>\n",
       "      <td>1</td>\n",
       "    </tr>\n",
       "    <tr>\n",
       "      <th>245699</th>\n",
       "      <td>MARTXU7T</td>\n",
       "      <td>1</td>\n",
       "      <td>53</td>\n",
       "      <td>RG254</td>\n",
       "      <td>0</td>\n",
       "      <td>X2</td>\n",
       "      <td>19</td>\n",
       "      <td>0</td>\n",
       "      <td>1141825</td>\n",
       "      <td>1</td>\n",
       "      <td>...</td>\n",
       "      <td>0</td>\n",
       "      <td>0</td>\n",
       "      <td>1</td>\n",
       "      <td>0</td>\n",
       "      <td>0</td>\n",
       "      <td>0</td>\n",
       "      <td>0</td>\n",
       "      <td>0</td>\n",
       "      <td>0</td>\n",
       "      <td>1</td>\n",
       "    </tr>\n",
       "    <tr>\n",
       "      <th>245714</th>\n",
       "      <td>KSCFGXV3</td>\n",
       "      <td>0</td>\n",
       "      <td>46</td>\n",
       "      <td>RG268</td>\n",
       "      <td>2</td>\n",
       "      <td>X2</td>\n",
       "      <td>19</td>\n",
       "      <td>1</td>\n",
       "      <td>993195</td>\n",
       "      <td>0</td>\n",
       "      <td>...</td>\n",
       "      <td>1</td>\n",
       "      <td>0</td>\n",
       "      <td>0</td>\n",
       "      <td>0</td>\n",
       "      <td>0</td>\n",
       "      <td>0</td>\n",
       "      <td>0</td>\n",
       "      <td>0</td>\n",
       "      <td>0</td>\n",
       "      <td>1</td>\n",
       "    </tr>\n",
       "    <tr>\n",
       "      <th>245720</th>\n",
       "      <td>BPAWWXZN</td>\n",
       "      <td>1</td>\n",
       "      <td>51</td>\n",
       "      <td>RG284</td>\n",
       "      <td>2</td>\n",
       "      <td>X3</td>\n",
       "      <td>109</td>\n",
       "      <td>1</td>\n",
       "      <td>1925586</td>\n",
       "      <td>0</td>\n",
       "      <td>...</td>\n",
       "      <td>0</td>\n",
       "      <td>0</td>\n",
       "      <td>0</td>\n",
       "      <td>1</td>\n",
       "      <td>0</td>\n",
       "      <td>0</td>\n",
       "      <td>0</td>\n",
       "      <td>0</td>\n",
       "      <td>1</td>\n",
       "      <td>0</td>\n",
       "    </tr>\n",
       "  </tbody>\n",
       "</table>\n",
       "<p>245725 rows × 21 columns</p>\n",
       "</div>"
      ],
      "text/plain": [
       "              ID  Gender  Age Region_Code  Occupation Channel_Code  Vintage  \\\n",
       "0       NNVBBKZB       0   73       RG268           0           X3       43   \n",
       "1       IDD62UNG       0   30       RG277           1           X1       32   \n",
       "2       HD3DSEMC       0   56       RG268           2           X3       26   \n",
       "3       BF3NC7KV       1   34       RG270           1           X1       19   \n",
       "4       TEASRWXV       0   30       RG282           1           X1       33   \n",
       "...          ...     ...  ...         ...         ...          ...      ...   \n",
       "245684  WVJFPREY       0   51       RG281           3           X3       99   \n",
       "245694  WIZBXYQZ       0   50       RG277           2           X2       92   \n",
       "245699  MARTXU7T       1   53       RG254           0           X2       19   \n",
       "245714  KSCFGXV3       0   46       RG268           2           X2       19   \n",
       "245720  BPAWWXZN       1   51       RG284           2           X3      109   \n",
       "\n",
       "        Credit_Product  Avg_Account_Balance  Is_Active  ... RG268  RG283  \\\n",
       "0                    0              1045696          0  ...     1      0   \n",
       "1                    0               581988          0  ...     0      0   \n",
       "2                    0              1484315          1  ...     1      0   \n",
       "3                    0               470454          0  ...     0      0   \n",
       "4                    0               886787          0  ...     0      0   \n",
       "...                ...                  ...        ...  ...   ...    ...   \n",
       "245684               1               552992          0  ...     0      0   \n",
       "245694               0              1385124          0  ...     0      0   \n",
       "245699               0              1141825          1  ...     0      0   \n",
       "245714               1               993195          0  ...     1      0   \n",
       "245720               1              1925586          0  ...     0      0   \n",
       "\n",
       "        RG254  RG284  RG277  RG280  RG269  X1  X3  X2  \n",
       "0           0      0      0      0      0   0   1   0  \n",
       "1           0      0      1      0      0   1   0   0  \n",
       "2           0      0      0      0      0   0   1   0  \n",
       "3           0      0      0      0      0   1   0   0  \n",
       "4           0      0      0      0      0   1   0   0  \n",
       "...       ...    ...    ...    ...    ...  ..  ..  ..  \n",
       "245684      0      0      0      0      0   0   1   0  \n",
       "245694      0      0      1      0      0   0   0   1  \n",
       "245699      1      0      0      0      0   0   0   1  \n",
       "245714      0      0      0      0      0   0   0   1  \n",
       "245720      0      1      0      0      0   0   1   0  \n",
       "\n",
       "[245725 rows x 21 columns]"
      ]
     },
     "execution_count": 316,
     "metadata": {},
     "output_type": "execute_result"
    }
   ],
   "source": [
    "finaldf=pd.concat([df_nan_train, df_nan_test])\n",
    "finaldf"
   ]
  },
  {
   "cell_type": "code",
   "execution_count": 329,
   "metadata": {},
   "outputs": [
    {
     "name": "stdout",
     "output_type": "stream",
     "text": [
      "<class 'pandas.core.frame.DataFrame'>\n",
      "Int64Index: 245725 entries, 0 to 245720\n",
      "Data columns (total 21 columns):\n",
      " #   Column               Non-Null Count   Dtype   \n",
      "---  ------               --------------   -----   \n",
      " 0   ID                   245725 non-null  object  \n",
      " 1   Gender               245725 non-null  int64   \n",
      " 2   Age                  245725 non-null  int64   \n",
      " 3   Region_Code          245725 non-null  category\n",
      " 4   Occupation           245725 non-null  int32   \n",
      " 5   Channel_Code         245725 non-null  category\n",
      " 6   Vintage              245725 non-null  int64   \n",
      " 7   Credit_Product       245725 non-null  int64   \n",
      " 8   Avg_Account_Balance  245725 non-null  int64   \n",
      " 9   Is_Active            245725 non-null  int32   \n",
      " 10  Is_Lead              245725 non-null  category\n",
      " 11  RG268                245725 non-null  int32   \n",
      " 12  RG283                245725 non-null  int32   \n",
      " 13  RG254                245725 non-null  int32   \n",
      " 14  RG284                245725 non-null  int32   \n",
      " 15  RG277                245725 non-null  int32   \n",
      " 16  RG280                245725 non-null  int32   \n",
      " 17  RG269                245725 non-null  int32   \n",
      " 18  X1                   245725 non-null  int32   \n",
      " 19  X3                   245725 non-null  int32   \n",
      " 20  X2                   245725 non-null  int32   \n",
      "dtypes: category(3), int32(12), int64(5), object(1)\n",
      "memory usage: 25.1+ MB\n"
     ]
    }
   ],
   "source": [
    "finaldf.info()"
   ]
  },
  {
   "cell_type": "markdown",
   "metadata": {},
   "source": [
    "###  Final classification using Random forest method after EDA\n",
    "### Choose Is_Lead as target and model"
   ]
  },
  {
   "cell_type": "code",
   "execution_count": 342,
   "metadata": {},
   "outputs": [],
   "source": [
    "fdf=finaldf.copy()"
   ]
  },
  {
   "cell_type": "code",
   "execution_count": 343,
   "metadata": {},
   "outputs": [
    {
     "name": "stdout",
     "output_type": "stream",
     "text": [
      "[[0 0]\n",
      " [1 0]\n",
      " [1 0]\n",
      " ...\n",
      " [0 0]\n",
      " [1 1]\n",
      " [0 0]]\n",
      "[[42688  4181]\n",
      " [ 9871  4692]]\n"
     ]
    },
    {
     "data": {
      "text/plain": [
       "0.7712592785518948"
      ]
     },
     "execution_count": 343,
     "metadata": {},
     "output_type": "execute_result"
    }
   ],
   "source": [
    "#fdf=finaldf.copy()\n",
    "y1 = fdf.iloc[:, 10].values  # Is lead target\n",
    "xx1=fdf.drop([\"ID\",\"Region_Code\",\"Channel_Code\",\"Is_Lead\"],axis=1)\n",
    "\n",
    "X1 = xx1.iloc[:, :].values\n",
    "y1=y1.astype('int')\n",
    "\n",
    "\n",
    "\n",
    "X_train, X_test, y_train, y_test = train_test_split(X1, y1, test_size = 0.25, random_state = 0)\n",
    "\n",
    "\n",
    "classifier_final = RandomForestClassifier(n_estimators = 10, criterion = 'entropy', random_state = 0)\n",
    "classifier_final.fit(X_train, y_train)\n",
    "\n",
    "y_pred = classifier_final.predict(X_test)\n",
    "print(np.concatenate((y_pred.reshape(len(y_pred),1), y_test.reshape(len(y_test),1)),1))\n",
    "\n",
    "\n",
    "cm = confusion_matrix(y_test, y_pred)\n",
    "print(cm)\n",
    "accuracy_score(y_test, y_pred)"
   ]
  },
  {
   "cell_type": "markdown",
   "metadata": {},
   "source": [
    "### Classification report<a class=\"anchor\" id=\"6.4\"></a>"
   ]
  },
  {
   "cell_type": "code",
   "execution_count": 344,
   "metadata": {},
   "outputs": [],
   "source": [
    "from sklearn.metrics import classification_report\n",
    "def classification_report_print(y_true, y_pred, title, target_names=['0', '1']):\n",
    "    print(f'Classification report {title}:')\n",
    "    print(classification_report(y_true, y_pred, target_names=target_names))\n",
    "    "
   ]
  },
  {
   "cell_type": "code",
   "execution_count": 345,
   "metadata": {},
   "outputs": [
    {
     "name": "stdout",
     "output_type": "stream",
     "text": [
      "Classification report for training data:\n",
      "              precision    recall  f1-score   support\n",
      "\n",
      "           0       0.81      0.91      0.86     46869\n",
      "           1       0.53      0.32      0.40     14563\n",
      "\n",
      "    accuracy                           0.77     61432\n",
      "   macro avg       0.67      0.62      0.63     61432\n",
      "weighted avg       0.75      0.77      0.75     61432\n",
      "\n"
     ]
    }
   ],
   "source": [
    "classification_report_print(y_test, y_pred, 'for training data')\n"
   ]
  },
  {
   "cell_type": "code",
   "execution_count": 349,
   "metadata": {},
   "outputs": [
    {
     "data": {
      "text/plain": [
       "1.0"
      ]
     },
     "execution_count": 349,
     "metadata": {},
     "output_type": "execute_result"
    }
   ],
   "source": [
    "from sklearn.metrics import roc_auc_score\n",
    "roc_auc_score(y_pred, classifier_final.predict_proba(X_test)[:, 1])\n"
   ]
  },
  {
   "cell_type": "code",
   "execution_count": 335,
   "metadata": {},
   "outputs": [
    {
     "data": {
      "text/plain": [
       "(61432, 17)"
      ]
     },
     "execution_count": 335,
     "metadata": {},
     "output_type": "execute_result"
    }
   ],
   "source": [
    "X_test.shape"
   ]
  },
  {
   "cell_type": "code",
   "execution_count": 320,
   "metadata": {},
   "outputs": [
    {
     "name": "stdout",
     "output_type": "stream",
     "text": [
      "[[0 0]\n",
      " [0 0]\n",
      " [0 0]\n",
      " ...\n",
      " [0 0]\n",
      " [0 1]\n",
      " [0 0]]\n",
      "[[46008   861]\n",
      " [14067   496]]\n"
     ]
    },
    {
     "data": {
      "text/plain": [
       "0.7569996093241308"
      ]
     },
     "execution_count": 320,
     "metadata": {},
     "output_type": "execute_result"
    }
   ],
   "source": [
    "from sklearn.naive_bayes import GaussianNB\n",
    "classifier_GB = GaussianNB()\n",
    "classifier_GB.fit(X_train, y_train)\n",
    "\n",
    "y_pred = classifier_GB.predict(X_test)\n",
    "print(np.concatenate((y_pred.reshape(len(y_pred),1), y_test.reshape(len(y_test),1)),1))\n",
    "\n",
    "\n",
    "cm = confusion_matrix(y_test, y_pred)\n",
    "print(cm)\n",
    "accuracy_score(y_test, y_pred)"
   ]
  },
  {
   "cell_type": "markdown",
   "metadata": {},
   "source": [
    "### Predicting the data in test csv file after transformation using Random forest Algorithm with 77.12% accuracy"
   ]
  },
  {
   "cell_type": "markdown",
   "metadata": {},
   "source": [
    "### Perform Encoding of catogorical variables"
   ]
  },
  {
   "cell_type": "code",
   "execution_count": 356,
   "metadata": {},
   "outputs": [
    {
     "data": {
      "text/html": [
       "<div>\n",
       "<style scoped>\n",
       "    .dataframe tbody tr th:only-of-type {\n",
       "        vertical-align: middle;\n",
       "    }\n",
       "\n",
       "    .dataframe tbody tr th {\n",
       "        vertical-align: top;\n",
       "    }\n",
       "\n",
       "    .dataframe thead th {\n",
       "        text-align: right;\n",
       "    }\n",
       "</style>\n",
       "<table border=\"1\" class=\"dataframe\">\n",
       "  <thead>\n",
       "    <tr style=\"text-align: right;\">\n",
       "      <th></th>\n",
       "      <th>Age</th>\n",
       "      <th>Vintage</th>\n",
       "      <th>Avg_Account_Balance</th>\n",
       "    </tr>\n",
       "  </thead>\n",
       "  <tbody>\n",
       "    <tr>\n",
       "      <th>count</th>\n",
       "      <td>105312.000000</td>\n",
       "      <td>105312.000000</td>\n",
       "      <td>1.053120e+05</td>\n",
       "    </tr>\n",
       "    <tr>\n",
       "      <th>mean</th>\n",
       "      <td>43.871002</td>\n",
       "      <td>46.842819</td>\n",
       "      <td>1.134195e+06</td>\n",
       "    </tr>\n",
       "    <tr>\n",
       "      <th>std</th>\n",
       "      <td>14.872890</td>\n",
       "      <td>32.273634</td>\n",
       "      <td>8.662430e+05</td>\n",
       "    </tr>\n",
       "    <tr>\n",
       "      <th>min</th>\n",
       "      <td>24.000000</td>\n",
       "      <td>7.000000</td>\n",
       "      <td>2.259700e+04</td>\n",
       "    </tr>\n",
       "    <tr>\n",
       "      <th>25%</th>\n",
       "      <td>30.000000</td>\n",
       "      <td>20.000000</td>\n",
       "      <td>6.039822e+05</td>\n",
       "    </tr>\n",
       "    <tr>\n",
       "      <th>50%</th>\n",
       "      <td>43.000000</td>\n",
       "      <td>32.000000</td>\n",
       "      <td>8.966345e+05</td>\n",
       "    </tr>\n",
       "    <tr>\n",
       "      <th>75%</th>\n",
       "      <td>54.000000</td>\n",
       "      <td>73.000000</td>\n",
       "      <td>1.371598e+06</td>\n",
       "    </tr>\n",
       "    <tr>\n",
       "      <th>max</th>\n",
       "      <td>85.000000</td>\n",
       "      <td>135.000000</td>\n",
       "      <td>9.908858e+06</td>\n",
       "    </tr>\n",
       "  </tbody>\n",
       "</table>\n",
       "</div>"
      ],
      "text/plain": [
       "                 Age        Vintage  Avg_Account_Balance\n",
       "count  105312.000000  105312.000000         1.053120e+05\n",
       "mean       43.871002      46.842819         1.134195e+06\n",
       "std        14.872890      32.273634         8.662430e+05\n",
       "min        24.000000       7.000000         2.259700e+04\n",
       "25%        30.000000      20.000000         6.039822e+05\n",
       "50%        43.000000      32.000000         8.966345e+05\n",
       "75%        54.000000      73.000000         1.371598e+06\n",
       "max        85.000000     135.000000         9.908858e+06"
      ]
     },
     "execution_count": 356,
     "metadata": {},
     "output_type": "execute_result"
    }
   ],
   "source": [
    "credit_test = pd.read_csv('test_mSzZ8RL.csv')\n",
    "credit.tail(3)\n",
    "df_test=credit_test\n",
    "df_test.describe()\n"
   ]
  },
  {
   "cell_type": "code",
   "execution_count": 357,
   "metadata": {},
   "outputs": [
    {
     "name": "stdout",
     "output_type": "stream",
     "text": [
      "<class 'pandas.core.frame.DataFrame'>\n",
      "RangeIndex: 105312 entries, 0 to 105311\n",
      "Data columns (total 10 columns):\n",
      " #   Column               Non-Null Count   Dtype \n",
      "---  ------               --------------   ----- \n",
      " 0   ID                   105312 non-null  object\n",
      " 1   Gender               105312 non-null  object\n",
      " 2   Age                  105312 non-null  int64 \n",
      " 3   Region_Code          105312 non-null  object\n",
      " 4   Occupation           105312 non-null  object\n",
      " 5   Channel_Code         105312 non-null  object\n",
      " 6   Vintage              105312 non-null  int64 \n",
      " 7   Credit_Product       92790 non-null   object\n",
      " 8   Avg_Account_Balance  105312 non-null  int64 \n",
      " 9   Is_Active            105312 non-null  object\n",
      "dtypes: int64(3), object(7)\n",
      "memory usage: 8.0+ MB\n"
     ]
    }
   ],
   "source": [
    "df_test.info()"
   ]
  },
  {
   "cell_type": "code",
   "execution_count": 358,
   "metadata": {},
   "outputs": [
    {
     "name": "stdout",
     "output_type": "stream",
     "text": [
      "ID                     False\n",
      "Gender                 False\n",
      "Age                    False\n",
      "Region_Code            False\n",
      "Occupation             False\n",
      "Channel_Code           False\n",
      "Vintage                False\n",
      "Credit_Product          True\n",
      "Avg_Account_Balance    False\n",
      "Is_Active              False\n",
      "dtype: bool \n",
      "\n",
      "\n",
      "ID                         0\n",
      "Gender                     0\n",
      "Age                        0\n",
      "Region_Code                0\n",
      "Occupation                 0\n",
      "Channel_Code               0\n",
      "Vintage                    0\n",
      "Credit_Product         12522\n",
      "Avg_Account_Balance        0\n",
      "Is_Active                  0\n",
      "dtype: int64 \n",
      "\n",
      "\n"
     ]
    },
    {
     "data": {
      "text/plain": [
       "True"
      ]
     },
     "execution_count": 358,
     "metadata": {},
     "output_type": "execute_result"
    }
   ],
   "source": [
    "print(df_test.isna().any(), \"\\n\\n\")\n",
    "print(df_test.isna().sum(), \"\\n\\n\")\n",
    "# Solution 4:\n",
    "df_test.isna().any(axis = None)"
   ]
  },
  {
   "cell_type": "code",
   "execution_count": 359,
   "metadata": {
    "scrolled": true
   },
   "outputs": [
    {
     "name": "stdout",
     "output_type": "stream",
     "text": [
      "Occupation\n",
      "Index(['Entrepreneur', 'Other', 'Salaried', 'Self_Employed'], dtype='object')\n",
      "---------------------------------\n",
      "Self_Employed    0.410134\n",
      "Salaried         0.293537\n",
      "Other            0.286112\n",
      "Entrepreneur     0.010217\n",
      "Name: Occupation, dtype: float64\n",
      "Smaller categories with less than 10% ocurances\n",
      "CategoricalIndex(['Entrepreneur'], categories=['Entrepreneur', 'Other', 'Salaried', 'Self_Employed'], ordered=False, dtype='category')\n",
      "########################################\n",
      "Channel_Code\n",
      "Index(['X1', 'X2', 'X3', 'X4'], dtype='object')\n",
      "---------------------------------\n",
      "X1    0.422402\n",
      "X3    0.277927\n",
      "X2    0.277043\n",
      "X4    0.022628\n",
      "Name: Channel_Code, dtype: float64\n",
      "Smaller categories with less than 10% ocurances\n",
      "CategoricalIndex(['X4'], categories=['X1', 'X2', 'X3', 'X4'], ordered=False, dtype='category')\n",
      "########################################\n",
      "Region_Code\n",
      "Index(['RG250', 'RG251', 'RG252', 'RG253', 'RG254', 'RG255', 'RG256', 'RG257',\n",
      "       'RG258', 'RG259', 'RG260', 'RG261', 'RG262', 'RG263', 'RG264', 'RG265',\n",
      "       'RG266', 'RG267', 'RG268', 'RG269', 'RG270', 'RG271', 'RG272', 'RG273',\n",
      "       'RG274', 'RG275', 'RG276', 'RG277', 'RG278', 'RG279', 'RG280', 'RG281',\n",
      "       'RG282', 'RG283', 'RG284'],\n",
      "      dtype='object')\n",
      "---------------------------------\n",
      "RG268    0.143621\n",
      "RG283    0.122313\n",
      "RG254    0.111450\n",
      "RG284    0.077607\n",
      "RG277    0.053137\n",
      "RG280    0.052501\n",
      "RG270    0.032665\n",
      "RG269    0.031222\n",
      "RG261    0.031203\n",
      "RG251    0.025429\n",
      "RG257    0.024575\n",
      "RG272    0.022201\n",
      "RG282    0.022191\n",
      "RG274    0.020966\n",
      "RG281    0.020359\n",
      "RG252    0.017197\n",
      "RG273    0.017121\n",
      "RG263    0.015335\n",
      "RG279    0.015193\n",
      "RG275    0.013132\n",
      "RG260    0.012344\n",
      "RG264    0.011784\n",
      "RG256    0.011338\n",
      "RG276    0.011252\n",
      "RG259    0.010464\n",
      "RG250    0.009951\n",
      "RG255    0.008461\n",
      "RG278    0.007824\n",
      "RG258    0.007710\n",
      "RG253    0.007691\n",
      "RG262    0.007596\n",
      "RG265    0.006343\n",
      "RG271    0.006210\n",
      "RG266    0.005992\n",
      "RG267    0.005621\n",
      "Name: Region_Code, dtype: float64\n",
      "Smaller categories with less than 10% ocurances\n",
      "CategoricalIndex(['RG284', 'RG277', 'RG280', 'RG270', 'RG269', 'RG261',\n",
      "                  'RG251', 'RG257', 'RG272', 'RG282', 'RG274', 'RG281',\n",
      "                  'RG252', 'RG273', 'RG263', 'RG279', 'RG275', 'RG260',\n",
      "                  'RG264', 'RG256', 'RG276', 'RG259', 'RG250', 'RG255',\n",
      "                  'RG278', 'RG258', 'RG253', 'RG262', 'RG265', 'RG271',\n",
      "                  'RG266', 'RG267'],\n",
      "                 categories=['RG250', 'RG251', 'RG252', 'RG253', 'RG254', 'RG255', 'RG256', 'RG257', ...], ordered=False, dtype='category')\n",
      "########################################\n",
      "Credit_Product\n",
      "Index(['No', 'Yes'], dtype='object')\n",
      "---------------------------------\n",
      "No     0.663951\n",
      "Yes    0.336049\n",
      "Name: Credit_Product, dtype: float64\n",
      "Smaller categories with less than 10% ocurances\n",
      "CategoricalIndex([], categories=['No', 'Yes'], ordered=False, dtype='category')\n",
      "########################################\n",
      "Is_Active\n",
      "Index(['No', 'Yes'], dtype='object')\n",
      "---------------------------------\n",
      "No     0.60579\n",
      "Yes    0.39421\n",
      "Name: Is_Active, dtype: float64\n",
      "Smaller categories with less than 10% ocurances\n",
      "CategoricalIndex([], categories=['No', 'Yes'], ordered=False, dtype='category')\n",
      "########################################\n"
     ]
    }
   ],
   "source": [
    "def freq_count_catag(col):\n",
    "   \n",
    "    # Step 1: count the frequencies\n",
    "    df_test[col] = df_test[col].astype(\"category\")\n",
    "    frequencies = df_test[col].value_counts(normalize = True)\n",
    "    print(col)\n",
    "    print(df_test[col].cat.categories)\n",
    "    print(\"---------------------------------\")\n",
    "\n",
    "    print(frequencies)\n",
    "\n",
    "    # Step 2: establish your threshold and filter the smaller categories\n",
    "    threshold = 0.1\n",
    "    small_categories = frequencies[frequencies < threshold].index\n",
    "    print(\"Smaller categories with less than 10% ocurances\")\n",
    "\n",
    "    print(small_categories)\n",
    "    print(\"########################################\")\n",
    "    \n",
    "freq_count_catag(\"Occupation\")\n",
    "freq_count_catag(\"Channel_Code\")\n",
    "freq_count_catag(\"Region_Code\")\n",
    "freq_count_catag(\"Credit_Product\")\n",
    "freq_count_catag(\"Is_Active\")\n",
    "\n"
   ]
  },
  {
   "cell_type": "code",
   "execution_count": 360,
   "metadata": {},
   "outputs": [
    {
     "data": {
      "text/html": [
       "<div>\n",
       "<style scoped>\n",
       "    .dataframe tbody tr th:only-of-type {\n",
       "        vertical-align: middle;\n",
       "    }\n",
       "\n",
       "    .dataframe tbody tr th {\n",
       "        vertical-align: top;\n",
       "    }\n",
       "\n",
       "    .dataframe thead th {\n",
       "        text-align: right;\n",
       "    }\n",
       "</style>\n",
       "<table border=\"1\" class=\"dataframe\">\n",
       "  <thead>\n",
       "    <tr style=\"text-align: right;\">\n",
       "      <th></th>\n",
       "      <th>Region_Code</th>\n",
       "      <th>RG268</th>\n",
       "      <th>RG283</th>\n",
       "      <th>RG254</th>\n",
       "      <th>RG284</th>\n",
       "      <th>RG277</th>\n",
       "      <th>RG280</th>\n",
       "      <th>RG270</th>\n",
       "    </tr>\n",
       "  </thead>\n",
       "  <tbody>\n",
       "    <tr>\n",
       "      <th>0</th>\n",
       "      <td>RG254</td>\n",
       "      <td>0</td>\n",
       "      <td>0</td>\n",
       "      <td>1</td>\n",
       "      <td>0</td>\n",
       "      <td>0</td>\n",
       "      <td>0</td>\n",
       "      <td>0</td>\n",
       "    </tr>\n",
       "    <tr>\n",
       "      <th>1</th>\n",
       "      <td>RG268</td>\n",
       "      <td>1</td>\n",
       "      <td>0</td>\n",
       "      <td>0</td>\n",
       "      <td>0</td>\n",
       "      <td>0</td>\n",
       "      <td>0</td>\n",
       "      <td>0</td>\n",
       "    </tr>\n",
       "    <tr>\n",
       "      <th>2</th>\n",
       "      <td>RG270</td>\n",
       "      <td>0</td>\n",
       "      <td>0</td>\n",
       "      <td>0</td>\n",
       "      <td>0</td>\n",
       "      <td>0</td>\n",
       "      <td>0</td>\n",
       "      <td>1</td>\n",
       "    </tr>\n",
       "    <tr>\n",
       "      <th>3</th>\n",
       "      <td>RG272</td>\n",
       "      <td>0</td>\n",
       "      <td>0</td>\n",
       "      <td>0</td>\n",
       "      <td>0</td>\n",
       "      <td>0</td>\n",
       "      <td>0</td>\n",
       "      <td>0</td>\n",
       "    </tr>\n",
       "    <tr>\n",
       "      <th>4</th>\n",
       "      <td>RG270</td>\n",
       "      <td>0</td>\n",
       "      <td>0</td>\n",
       "      <td>0</td>\n",
       "      <td>0</td>\n",
       "      <td>0</td>\n",
       "      <td>0</td>\n",
       "      <td>1</td>\n",
       "    </tr>\n",
       "    <tr>\n",
       "      <th>5</th>\n",
       "      <td>RG268</td>\n",
       "      <td>1</td>\n",
       "      <td>0</td>\n",
       "      <td>0</td>\n",
       "      <td>0</td>\n",
       "      <td>0</td>\n",
       "      <td>0</td>\n",
       "      <td>0</td>\n",
       "    </tr>\n",
       "    <tr>\n",
       "      <th>6</th>\n",
       "      <td>RG253</td>\n",
       "      <td>0</td>\n",
       "      <td>0</td>\n",
       "      <td>0</td>\n",
       "      <td>0</td>\n",
       "      <td>0</td>\n",
       "      <td>0</td>\n",
       "      <td>0</td>\n",
       "    </tr>\n",
       "    <tr>\n",
       "      <th>7</th>\n",
       "      <td>RG257</td>\n",
       "      <td>0</td>\n",
       "      <td>0</td>\n",
       "      <td>0</td>\n",
       "      <td>0</td>\n",
       "      <td>0</td>\n",
       "      <td>0</td>\n",
       "      <td>0</td>\n",
       "    </tr>\n",
       "    <tr>\n",
       "      <th>8</th>\n",
       "      <td>RG284</td>\n",
       "      <td>0</td>\n",
       "      <td>0</td>\n",
       "      <td>0</td>\n",
       "      <td>1</td>\n",
       "      <td>0</td>\n",
       "      <td>0</td>\n",
       "      <td>0</td>\n",
       "    </tr>\n",
       "    <tr>\n",
       "      <th>9</th>\n",
       "      <td>RG283</td>\n",
       "      <td>0</td>\n",
       "      <td>1</td>\n",
       "      <td>0</td>\n",
       "      <td>0</td>\n",
       "      <td>0</td>\n",
       "      <td>0</td>\n",
       "      <td>0</td>\n",
       "    </tr>\n",
       "  </tbody>\n",
       "</table>\n",
       "</div>"
      ],
      "text/plain": [
       "  Region_Code  RG268  RG283  RG254  RG284  RG277  RG280  RG270\n",
       "0       RG254      0      0      1      0      0      0      0\n",
       "1       RG268      1      0      0      0      0      0      0\n",
       "2       RG270      0      0      0      0      0      0      1\n",
       "3       RG272      0      0      0      0      0      0      0\n",
       "4       RG270      0      0      0      0      0      0      1\n",
       "5       RG268      1      0      0      0      0      0      0\n",
       "6       RG253      0      0      0      0      0      0      0\n",
       "7       RG257      0      0      0      0      0      0      0\n",
       "8       RG284      0      0      0      1      0      0      0\n",
       "9       RG283      0      1      0      0      0      0      0"
      ]
     },
     "execution_count": 360,
     "metadata": {},
     "output_type": "execute_result"
    }
   ],
   "source": [
    "Reg_top9=[x for x in df_test.Region_Code.value_counts().sort_values(ascending=False).head(7).index]\n",
    "for label in Reg_top9:\n",
    "    df_test[label]=np.where(df_test[\"Region_Code\"]==label, 1, 0)\n",
    "    \n",
    "df_test[[\"Region_Code\"]+Reg_top9].head(10)\n",
    "\n"
   ]
  },
  {
   "cell_type": "code",
   "execution_count": 361,
   "metadata": {},
   "outputs": [
    {
     "name": "stdout",
     "output_type": "stream",
     "text": [
      "ID                         0\n",
      "Gender                     0\n",
      "Age                        0\n",
      "Region_Code                0\n",
      "Occupation                 0\n",
      "Channel_Code               0\n",
      "Vintage                    0\n",
      "Credit_Product         12522\n",
      "Avg_Account_Balance        0\n",
      "Is_Active                  0\n",
      "RG268                      0\n",
      "RG283                      0\n",
      "RG254                      0\n",
      "RG284                      0\n",
      "RG277                      0\n",
      "RG280                      0\n",
      "RG270                      0\n",
      "dtype: int64 \n",
      "\n",
      "\n"
     ]
    }
   ],
   "source": [
    "print(df_test.isna().sum(), \"\\n\\n\")\n"
   ]
  },
  {
   "cell_type": "code",
   "execution_count": 362,
   "metadata": {
    "scrolled": true
   },
   "outputs": [
    {
     "name": "stdout",
     "output_type": "stream",
     "text": [
      "['X1', 'X3', 'X2']\n"
     ]
    }
   ],
   "source": [
    "Xcat=[x for x in df.Channel_Code.value_counts().sort_values(ascending=False).head(3).index]\n",
    "print(Xcat)\n",
    "for label in Xcat:\n",
    "    df_test[label]=np.where(df_test[\"Channel_Code\"]==label, 1, 0)\n",
    "    "
   ]
  },
  {
   "cell_type": "code",
   "execution_count": 363,
   "metadata": {},
   "outputs": [
    {
     "data": {
      "text/html": [
       "<div>\n",
       "<style scoped>\n",
       "    .dataframe tbody tr th:only-of-type {\n",
       "        vertical-align: middle;\n",
       "    }\n",
       "\n",
       "    .dataframe tbody tr th {\n",
       "        vertical-align: top;\n",
       "    }\n",
       "\n",
       "    .dataframe thead th {\n",
       "        text-align: right;\n",
       "    }\n",
       "</style>\n",
       "<table border=\"1\" class=\"dataframe\">\n",
       "  <thead>\n",
       "    <tr style=\"text-align: right;\">\n",
       "      <th></th>\n",
       "      <th>Channel_Code</th>\n",
       "      <th>X1</th>\n",
       "      <th>X3</th>\n",
       "      <th>X2</th>\n",
       "    </tr>\n",
       "  </thead>\n",
       "  <tbody>\n",
       "    <tr>\n",
       "      <th>0</th>\n",
       "      <td>X1</td>\n",
       "      <td>1</td>\n",
       "      <td>0</td>\n",
       "      <td>0</td>\n",
       "    </tr>\n",
       "    <tr>\n",
       "      <th>1</th>\n",
       "      <td>X2</td>\n",
       "      <td>0</td>\n",
       "      <td>0</td>\n",
       "      <td>1</td>\n",
       "    </tr>\n",
       "    <tr>\n",
       "      <th>2</th>\n",
       "      <td>X1</td>\n",
       "      <td>1</td>\n",
       "      <td>0</td>\n",
       "      <td>0</td>\n",
       "    </tr>\n",
       "    <tr>\n",
       "      <th>3</th>\n",
       "      <td>X1</td>\n",
       "      <td>1</td>\n",
       "      <td>0</td>\n",
       "      <td>0</td>\n",
       "    </tr>\n",
       "    <tr>\n",
       "      <th>4</th>\n",
       "      <td>X1</td>\n",
       "      <td>1</td>\n",
       "      <td>0</td>\n",
       "      <td>0</td>\n",
       "    </tr>\n",
       "    <tr>\n",
       "      <th>5</th>\n",
       "      <td>X3</td>\n",
       "      <td>0</td>\n",
       "      <td>1</td>\n",
       "      <td>0</td>\n",
       "    </tr>\n",
       "    <tr>\n",
       "      <th>6</th>\n",
       "      <td>X2</td>\n",
       "      <td>0</td>\n",
       "      <td>0</td>\n",
       "      <td>1</td>\n",
       "    </tr>\n",
       "    <tr>\n",
       "      <th>7</th>\n",
       "      <td>X1</td>\n",
       "      <td>1</td>\n",
       "      <td>0</td>\n",
       "      <td>0</td>\n",
       "    </tr>\n",
       "    <tr>\n",
       "      <th>8</th>\n",
       "      <td>X3</td>\n",
       "      <td>0</td>\n",
       "      <td>1</td>\n",
       "      <td>0</td>\n",
       "    </tr>\n",
       "    <tr>\n",
       "      <th>9</th>\n",
       "      <td>X2</td>\n",
       "      <td>0</td>\n",
       "      <td>0</td>\n",
       "      <td>1</td>\n",
       "    </tr>\n",
       "  </tbody>\n",
       "</table>\n",
       "</div>"
      ],
      "text/plain": [
       "  Channel_Code  X1  X3  X2\n",
       "0           X1   1   0   0\n",
       "1           X2   0   0   1\n",
       "2           X1   1   0   0\n",
       "3           X1   1   0   0\n",
       "4           X1   1   0   0\n",
       "5           X3   0   1   0\n",
       "6           X2   0   0   1\n",
       "7           X1   1   0   0\n",
       "8           X3   0   1   0\n",
       "9           X2   0   0   1"
      ]
     },
     "execution_count": 363,
     "metadata": {},
     "output_type": "execute_result"
    }
   ],
   "source": [
    "df_test[[\"Channel_Code\"]+Xcat].head(10)"
   ]
  },
  {
   "cell_type": "code",
   "execution_count": 375,
   "metadata": {},
   "outputs": [
    {
     "data": {
      "text/html": [
       "<div>\n",
       "<style scoped>\n",
       "    .dataframe tbody tr th:only-of-type {\n",
       "        vertical-align: middle;\n",
       "    }\n",
       "\n",
       "    .dataframe tbody tr th {\n",
       "        vertical-align: top;\n",
       "    }\n",
       "\n",
       "    .dataframe thead th {\n",
       "        text-align: right;\n",
       "    }\n",
       "</style>\n",
       "<table border=\"1\" class=\"dataframe\">\n",
       "  <thead>\n",
       "    <tr style=\"text-align: right;\">\n",
       "      <th></th>\n",
       "      <th>Gender</th>\n",
       "      <th>Age</th>\n",
       "      <th>Region_Code</th>\n",
       "      <th>Occupation</th>\n",
       "      <th>Channel_Code</th>\n",
       "      <th>Vintage</th>\n",
       "      <th>Credit_Product</th>\n",
       "      <th>Avg_Account_Balance</th>\n",
       "      <th>Is_Active</th>\n",
       "      <th>RG268</th>\n",
       "      <th>RG283</th>\n",
       "      <th>RG254</th>\n",
       "      <th>RG284</th>\n",
       "      <th>RG277</th>\n",
       "      <th>RG280</th>\n",
       "      <th>RG270</th>\n",
       "      <th>X1</th>\n",
       "      <th>X3</th>\n",
       "      <th>X2</th>\n",
       "    </tr>\n",
       "    <tr>\n",
       "      <th>ID</th>\n",
       "      <th></th>\n",
       "      <th></th>\n",
       "      <th></th>\n",
       "      <th></th>\n",
       "      <th></th>\n",
       "      <th></th>\n",
       "      <th></th>\n",
       "      <th></th>\n",
       "      <th></th>\n",
       "      <th></th>\n",
       "      <th></th>\n",
       "      <th></th>\n",
       "      <th></th>\n",
       "      <th></th>\n",
       "      <th></th>\n",
       "      <th></th>\n",
       "      <th></th>\n",
       "      <th></th>\n",
       "      <th></th>\n",
       "    </tr>\n",
       "  </thead>\n",
       "  <tbody>\n",
       "    <tr>\n",
       "      <th>VBENBARO</th>\n",
       "      <td>1</td>\n",
       "      <td>29</td>\n",
       "      <td>RG254</td>\n",
       "      <td>0</td>\n",
       "      <td>X1</td>\n",
       "      <td>25</td>\n",
       "      <td>1</td>\n",
       "      <td>742366</td>\n",
       "      <td>0</td>\n",
       "      <td>0</td>\n",
       "      <td>0</td>\n",
       "      <td>1</td>\n",
       "      <td>0</td>\n",
       "      <td>0</td>\n",
       "      <td>0</td>\n",
       "      <td>0</td>\n",
       "      <td>1</td>\n",
       "      <td>0</td>\n",
       "      <td>0</td>\n",
       "    </tr>\n",
       "    <tr>\n",
       "      <th>CCMEWNKY</th>\n",
       "      <td>1</td>\n",
       "      <td>43</td>\n",
       "      <td>RG268</td>\n",
       "      <td>0</td>\n",
       "      <td>X2</td>\n",
       "      <td>49</td>\n",
       "      <td>NaN</td>\n",
       "      <td>925537</td>\n",
       "      <td>0</td>\n",
       "      <td>1</td>\n",
       "      <td>0</td>\n",
       "      <td>0</td>\n",
       "      <td>0</td>\n",
       "      <td>0</td>\n",
       "      <td>0</td>\n",
       "      <td>0</td>\n",
       "      <td>0</td>\n",
       "      <td>0</td>\n",
       "      <td>1</td>\n",
       "    </tr>\n",
       "    <tr>\n",
       "      <th>VK3KGA9M</th>\n",
       "      <td>1</td>\n",
       "      <td>31</td>\n",
       "      <td>RG270</td>\n",
       "      <td>1</td>\n",
       "      <td>X1</td>\n",
       "      <td>14</td>\n",
       "      <td>0</td>\n",
       "      <td>215949</td>\n",
       "      <td>0</td>\n",
       "      <td>0</td>\n",
       "      <td>0</td>\n",
       "      <td>0</td>\n",
       "      <td>0</td>\n",
       "      <td>0</td>\n",
       "      <td>0</td>\n",
       "      <td>1</td>\n",
       "      <td>1</td>\n",
       "      <td>0</td>\n",
       "      <td>0</td>\n",
       "    </tr>\n",
       "    <tr>\n",
       "      <th>TT8RPZVC</th>\n",
       "      <td>1</td>\n",
       "      <td>29</td>\n",
       "      <td>RG272</td>\n",
       "      <td>0</td>\n",
       "      <td>X1</td>\n",
       "      <td>33</td>\n",
       "      <td>0</td>\n",
       "      <td>868070</td>\n",
       "      <td>0</td>\n",
       "      <td>0</td>\n",
       "      <td>0</td>\n",
       "      <td>0</td>\n",
       "      <td>0</td>\n",
       "      <td>0</td>\n",
       "      <td>0</td>\n",
       "      <td>0</td>\n",
       "      <td>1</td>\n",
       "      <td>0</td>\n",
       "      <td>0</td>\n",
       "    </tr>\n",
       "    <tr>\n",
       "      <th>SHQZEYTZ</th>\n",
       "      <td>0</td>\n",
       "      <td>29</td>\n",
       "      <td>RG270</td>\n",
       "      <td>0</td>\n",
       "      <td>X1</td>\n",
       "      <td>19</td>\n",
       "      <td>0</td>\n",
       "      <td>657087</td>\n",
       "      <td>0</td>\n",
       "      <td>0</td>\n",
       "      <td>0</td>\n",
       "      <td>0</td>\n",
       "      <td>0</td>\n",
       "      <td>0</td>\n",
       "      <td>0</td>\n",
       "      <td>1</td>\n",
       "      <td>1</td>\n",
       "      <td>0</td>\n",
       "      <td>0</td>\n",
       "    </tr>\n",
       "    <tr>\n",
       "      <th>...</th>\n",
       "      <td>...</td>\n",
       "      <td>...</td>\n",
       "      <td>...</td>\n",
       "      <td>...</td>\n",
       "      <td>...</td>\n",
       "      <td>...</td>\n",
       "      <td>...</td>\n",
       "      <td>...</td>\n",
       "      <td>...</td>\n",
       "      <td>...</td>\n",
       "      <td>...</td>\n",
       "      <td>...</td>\n",
       "      <td>...</td>\n",
       "      <td>...</td>\n",
       "      <td>...</td>\n",
       "      <td>...</td>\n",
       "      <td>...</td>\n",
       "      <td>...</td>\n",
       "      <td>...</td>\n",
       "    </tr>\n",
       "    <tr>\n",
       "      <th>DBENJOYI</th>\n",
       "      <td>1</td>\n",
       "      <td>52</td>\n",
       "      <td>RG268</td>\n",
       "      <td>1</td>\n",
       "      <td>X2</td>\n",
       "      <td>86</td>\n",
       "      <td>1</td>\n",
       "      <td>4242558</td>\n",
       "      <td>1</td>\n",
       "      <td>1</td>\n",
       "      <td>0</td>\n",
       "      <td>0</td>\n",
       "      <td>0</td>\n",
       "      <td>0</td>\n",
       "      <td>0</td>\n",
       "      <td>0</td>\n",
       "      <td>0</td>\n",
       "      <td>0</td>\n",
       "      <td>1</td>\n",
       "    </tr>\n",
       "    <tr>\n",
       "      <th>CWQ72DWS</th>\n",
       "      <td>1</td>\n",
       "      <td>55</td>\n",
       "      <td>RG277</td>\n",
       "      <td>0</td>\n",
       "      <td>X2</td>\n",
       "      <td>86</td>\n",
       "      <td>1</td>\n",
       "      <td>1159153</td>\n",
       "      <td>0</td>\n",
       "      <td>0</td>\n",
       "      <td>0</td>\n",
       "      <td>0</td>\n",
       "      <td>0</td>\n",
       "      <td>1</td>\n",
       "      <td>0</td>\n",
       "      <td>0</td>\n",
       "      <td>0</td>\n",
       "      <td>0</td>\n",
       "      <td>1</td>\n",
       "    </tr>\n",
       "    <tr>\n",
       "      <th>HDESC8GU</th>\n",
       "      <td>1</td>\n",
       "      <td>35</td>\n",
       "      <td>RG254</td>\n",
       "      <td>1</td>\n",
       "      <td>X4</td>\n",
       "      <td>15</td>\n",
       "      <td>0</td>\n",
       "      <td>1703727</td>\n",
       "      <td>0</td>\n",
       "      <td>0</td>\n",
       "      <td>0</td>\n",
       "      <td>1</td>\n",
       "      <td>0</td>\n",
       "      <td>0</td>\n",
       "      <td>0</td>\n",
       "      <td>0</td>\n",
       "      <td>0</td>\n",
       "      <td>0</td>\n",
       "      <td>0</td>\n",
       "    </tr>\n",
       "    <tr>\n",
       "      <th>2PW4SFCA</th>\n",
       "      <td>1</td>\n",
       "      <td>53</td>\n",
       "      <td>RG254</td>\n",
       "      <td>0</td>\n",
       "      <td>X3</td>\n",
       "      <td>93</td>\n",
       "      <td>0</td>\n",
       "      <td>737178</td>\n",
       "      <td>1</td>\n",
       "      <td>0</td>\n",
       "      <td>0</td>\n",
       "      <td>1</td>\n",
       "      <td>0</td>\n",
       "      <td>0</td>\n",
       "      <td>0</td>\n",
       "      <td>0</td>\n",
       "      <td>0</td>\n",
       "      <td>1</td>\n",
       "      <td>0</td>\n",
       "    </tr>\n",
       "    <tr>\n",
       "      <th>F2NOYPPZ</th>\n",
       "      <td>1</td>\n",
       "      <td>27</td>\n",
       "      <td>RG256</td>\n",
       "      <td>1</td>\n",
       "      <td>X1</td>\n",
       "      <td>21</td>\n",
       "      <td>0</td>\n",
       "      <td>591565</td>\n",
       "      <td>0</td>\n",
       "      <td>0</td>\n",
       "      <td>0</td>\n",
       "      <td>0</td>\n",
       "      <td>0</td>\n",
       "      <td>0</td>\n",
       "      <td>0</td>\n",
       "      <td>0</td>\n",
       "      <td>1</td>\n",
       "      <td>0</td>\n",
       "      <td>0</td>\n",
       "    </tr>\n",
       "  </tbody>\n",
       "</table>\n",
       "<p>105312 rows × 19 columns</p>\n",
       "</div>"
      ],
      "text/plain": [
       "          Gender  Age Region_Code Occupation Channel_Code  Vintage  \\\n",
       "ID                                                                   \n",
       "VBENBARO       1   29       RG254          0           X1       25   \n",
       "CCMEWNKY       1   43       RG268          0           X2       49   \n",
       "VK3KGA9M       1   31       RG270          1           X1       14   \n",
       "TT8RPZVC       1   29       RG272          0           X1       33   \n",
       "SHQZEYTZ       0   29       RG270          0           X1       19   \n",
       "...          ...  ...         ...        ...          ...      ...   \n",
       "DBENJOYI       1   52       RG268          1           X2       86   \n",
       "CWQ72DWS       1   55       RG277          0           X2       86   \n",
       "HDESC8GU       1   35       RG254          1           X4       15   \n",
       "2PW4SFCA       1   53       RG254          0           X3       93   \n",
       "F2NOYPPZ       1   27       RG256          1           X1       21   \n",
       "\n",
       "         Credit_Product  Avg_Account_Balance Is_Active  RG268  RG283  RG254  \\\n",
       "ID                                                                            \n",
       "VBENBARO              1               742366         0      0      0      1   \n",
       "CCMEWNKY            NaN               925537         0      1      0      0   \n",
       "VK3KGA9M              0               215949         0      0      0      0   \n",
       "TT8RPZVC              0               868070         0      0      0      0   \n",
       "SHQZEYTZ              0               657087         0      0      0      0   \n",
       "...                 ...                  ...       ...    ...    ...    ...   \n",
       "DBENJOYI              1              4242558         1      1      0      0   \n",
       "CWQ72DWS              1              1159153         0      0      0      0   \n",
       "HDESC8GU              0              1703727         0      0      0      1   \n",
       "2PW4SFCA              0               737178         1      0      0      1   \n",
       "F2NOYPPZ              0               591565         0      0      0      0   \n",
       "\n",
       "          RG284  RG277  RG280  RG270  X1  X3  X2  \n",
       "ID                                                \n",
       "VBENBARO      0      0      0      0   1   0   0  \n",
       "CCMEWNKY      0      0      0      0   0   0   1  \n",
       "VK3KGA9M      0      0      0      1   1   0   0  \n",
       "TT8RPZVC      0      0      0      0   1   0   0  \n",
       "SHQZEYTZ      0      0      0      1   1   0   0  \n",
       "...         ...    ...    ...    ...  ..  ..  ..  \n",
       "DBENJOYI      0      0      0      0   0   0   1  \n",
       "CWQ72DWS      0      1      0      0   0   0   1  \n",
       "HDESC8GU      0      0      0      0   0   0   0  \n",
       "2PW4SFCA      0      0      0      0   0   1   0  \n",
       "F2NOYPPZ      0      0      0      0   1   0   0  \n",
       "\n",
       "[105312 rows x 19 columns]"
      ]
     },
     "execution_count": 375,
     "metadata": {},
     "output_type": "execute_result"
    }
   ],
   "source": [
    "df_test.set_index('ID')"
   ]
  },
  {
   "cell_type": "code",
   "execution_count": 365,
   "metadata": {},
   "outputs": [],
   "source": [
    "\n",
    "df_test[\"Gender\"] = df_test[\"Gender\"].map({\"Male\":1, \"Female\":0}) # using dictionaries to map values\n",
    "df_test[\"Occupation\"] = df_test[\"Occupation\"].map({'Other':0, 'Salaried':1, 'Self_Employed':2,'Entrepreneur':3}) # 'Other':0, 'Salaried':1, 'Self_Employed':2,'Entrepreneur':3, \n",
    "df_test[\"Credit_Product\"] = df_test[\"Credit_Product\"].map({\"Yes\":1, \"No\":0}) # using dictionaries to map values\n",
    "df_test[\"Is_Active\"] = df_test[\"Is_Active\"].map({\"Yes\":1, \"No\":0}) # using \n"
   ]
  },
  {
   "cell_type": "code",
   "execution_count": 376,
   "metadata": {},
   "outputs": [
    {
     "name": "stdout",
     "output_type": "stream",
     "text": [
      "<class 'pandas.core.frame.DataFrame'>\n",
      "RangeIndex: 105312 entries, 0 to 105311\n",
      "Data columns (total 20 columns):\n",
      " #   Column               Non-Null Count   Dtype   \n",
      "---  ------               --------------   -----   \n",
      " 0   ID                   105312 non-null  object  \n",
      " 1   Gender               105312 non-null  int64   \n",
      " 2   Age                  105312 non-null  int64   \n",
      " 3   Region_Code          105312 non-null  category\n",
      " 4   Occupation           105312 non-null  category\n",
      " 5   Channel_Code         105312 non-null  category\n",
      " 6   Vintage              105312 non-null  int64   \n",
      " 7   Credit_Product       92790 non-null   category\n",
      " 8   Avg_Account_Balance  105312 non-null  int64   \n",
      " 9   Is_Active            105312 non-null  category\n",
      " 10  RG268                105312 non-null  int32   \n",
      " 11  RG283                105312 non-null  int32   \n",
      " 12  RG254                105312 non-null  int32   \n",
      " 13  RG284                105312 non-null  int32   \n",
      " 14  RG277                105312 non-null  int32   \n",
      " 15  RG280                105312 non-null  int32   \n",
      " 16  RG270                105312 non-null  int32   \n",
      " 17  X1                   105312 non-null  int32   \n",
      " 18  X3                   105312 non-null  int32   \n",
      " 19  X2                   105312 non-null  int32   \n",
      "dtypes: category(5), int32(10), int64(4), object(1)\n",
      "memory usage: 8.5+ MB\n"
     ]
    }
   ],
   "source": [
    "df_test.info()"
   ]
  },
  {
   "cell_type": "code",
   "execution_count": 384,
   "metadata": {},
   "outputs": [],
   "source": [
    "df_nan_test=df_test[df_test.isna().any(axis=1)]# data with nan into test set\n",
    "df_nan_train=df_test.dropna(axis=0)#data with out nan as train set\n"
   ]
  },
  {
   "cell_type": "code",
   "execution_count": 385,
   "metadata": {},
   "outputs": [
    {
     "name": "stdout",
     "output_type": "stream",
     "text": [
      "<class 'pandas.core.frame.DataFrame'>\n",
      "Int64Index: 12522 entries, 1 to 105295\n",
      "Data columns (total 20 columns):\n",
      " #   Column               Non-Null Count  Dtype   \n",
      "---  ------               --------------  -----   \n",
      " 0   ID                   12522 non-null  object  \n",
      " 1   Gender               12522 non-null  int64   \n",
      " 2   Age                  12522 non-null  int64   \n",
      " 3   Region_Code          12522 non-null  category\n",
      " 4   Occupation           12522 non-null  category\n",
      " 5   Channel_Code         12522 non-null  category\n",
      " 6   Vintage              12522 non-null  int64   \n",
      " 7   Credit_Product       0 non-null      category\n",
      " 8   Avg_Account_Balance  12522 non-null  int64   \n",
      " 9   Is_Active            12522 non-null  category\n",
      " 10  RG268                12522 non-null  int32   \n",
      " 11  RG283                12522 non-null  int32   \n",
      " 12  RG254                12522 non-null  int32   \n",
      " 13  RG284                12522 non-null  int32   \n",
      " 14  RG277                12522 non-null  int32   \n",
      " 15  RG280                12522 non-null  int32   \n",
      " 16  RG270                12522 non-null  int32   \n",
      " 17  X1                   12522 non-null  int32   \n",
      " 18  X3                   12522 non-null  int32   \n",
      " 19  X2                   12522 non-null  int32   \n",
      "dtypes: category(5), int32(10), int64(4), object(1)\n",
      "memory usage: 1.1+ MB\n"
     ]
    }
   ],
   "source": [
    "df_nan_test.info()"
   ]
  },
  {
   "cell_type": "code",
   "execution_count": null,
   "metadata": {},
   "outputs": [],
   "source": []
  },
  {
   "cell_type": "code",
   "execution_count": 386,
   "metadata": {},
   "outputs": [],
   "source": [
    "y = df_nan_train.iloc[:, 7].values\n",
    "xx=df_nan_train.drop([\"ID\",\"Credit_Product\",\"Region_Code\",\"Channel_Code\"],axis=1)\n",
    "X = xx.iloc[:, :].values"
   ]
  },
  {
   "cell_type": "code",
   "execution_count": 387,
   "metadata": {},
   "outputs": [
    {
     "name": "stdout",
     "output_type": "stream",
     "text": [
      "[[0 1]\n",
      " [0 0]\n",
      " [0 1]\n",
      " ...\n",
      " [1 1]\n",
      " [0 0]\n",
      " [1 1]]\n",
      "[[12894  2496]\n",
      " [ 4765  3043]]\n"
     ]
    },
    {
     "data": {
      "text/plain": [
       "0.6869988792137253"
      ]
     },
     "execution_count": 387,
     "metadata": {},
     "output_type": "execute_result"
    }
   ],
   "source": [
    "y=y.astype('int')\n",
    "\n",
    "X_train, X_test, y_train, y_test = train_test_split(X, y, test_size = 0.25, random_state = 0)\n",
    "\n",
    "\n",
    "classifier = RandomForestClassifier(n_estimators = 10, criterion = 'entropy', random_state = 0)\n",
    "classifier.fit(X_train, y_train)\n",
    "\n",
    "y_pred = classifier.predict(X_test)\n",
    "print(np.concatenate((y_pred.reshape(len(y_pred),1), y_test.reshape(len(y_test),1)),1))\n",
    "\n",
    "\n",
    "cm = confusion_matrix(y_test, y_pred)\n",
    "print(cm)\n",
    "accuracy_score(y_test, y_pred)"
   ]
  },
  {
   "cell_type": "code",
   "execution_count": 388,
   "metadata": {},
   "outputs": [
    {
     "name": "stdout",
     "output_type": "stream",
     "text": [
      "<class 'pandas.core.frame.DataFrame'>\n",
      "Int64Index: 12522 entries, 1 to 105295\n",
      "Data columns (total 20 columns):\n",
      " #   Column               Non-Null Count  Dtype   \n",
      "---  ------               --------------  -----   \n",
      " 0   ID                   12522 non-null  object  \n",
      " 1   Gender               12522 non-null  int64   \n",
      " 2   Age                  12522 non-null  int64   \n",
      " 3   Region_Code          12522 non-null  category\n",
      " 4   Occupation           12522 non-null  category\n",
      " 5   Channel_Code         12522 non-null  category\n",
      " 6   Vintage              12522 non-null  int64   \n",
      " 7   Credit_Product       0 non-null      category\n",
      " 8   Avg_Account_Balance  12522 non-null  int64   \n",
      " 9   Is_Active            12522 non-null  category\n",
      " 10  RG268                12522 non-null  int32   \n",
      " 11  RG283                12522 non-null  int32   \n",
      " 12  RG254                12522 non-null  int32   \n",
      " 13  RG284                12522 non-null  int32   \n",
      " 14  RG277                12522 non-null  int32   \n",
      " 15  RG280                12522 non-null  int32   \n",
      " 16  RG270                12522 non-null  int32   \n",
      " 17  X1                   12522 non-null  int32   \n",
      " 18  X3                   12522 non-null  int32   \n",
      " 19  X2                   12522 non-null  int32   \n",
      "dtypes: category(5), int32(10), int64(4), object(1)\n",
      "memory usage: 1.1+ MB\n"
     ]
    }
   ],
   "source": [
    "df_nan_test.info()\n"
   ]
  },
  {
   "cell_type": "code",
   "execution_count": 389,
   "metadata": {
    "scrolled": true
   },
   "outputs": [
    {
     "name": "stdout",
     "output_type": "stream",
     "text": [
      "<class 'pandas.core.frame.DataFrame'>\n",
      "Int64Index: 92790 entries, 0 to 105311\n",
      "Data columns (total 20 columns):\n",
      " #   Column               Non-Null Count  Dtype   \n",
      "---  ------               --------------  -----   \n",
      " 0   ID                   92790 non-null  object  \n",
      " 1   Gender               92790 non-null  int64   \n",
      " 2   Age                  92790 non-null  int64   \n",
      " 3   Region_Code          92790 non-null  category\n",
      " 4   Occupation           92790 non-null  category\n",
      " 5   Channel_Code         92790 non-null  category\n",
      " 6   Vintage              92790 non-null  int64   \n",
      " 7   Credit_Product       92790 non-null  category\n",
      " 8   Avg_Account_Balance  92790 non-null  int64   \n",
      " 9   Is_Active            92790 non-null  category\n",
      " 10  RG268                92790 non-null  int32   \n",
      " 11  RG283                92790 non-null  int32   \n",
      " 12  RG254                92790 non-null  int32   \n",
      " 13  RG284                92790 non-null  int32   \n",
      " 14  RG277                92790 non-null  int32   \n",
      " 15  RG280                92790 non-null  int32   \n",
      " 16  RG270                92790 non-null  int32   \n",
      " 17  X1                   92790 non-null  int32   \n",
      " 18  X3                   92790 non-null  int32   \n",
      " 19  X2                   92790 non-null  int32   \n",
      "dtypes: category(5), int32(10), int64(4), object(1)\n",
      "memory usage: 8.2+ MB\n"
     ]
    }
   ],
   "source": [
    "df_nan_train.info()"
   ]
  },
  {
   "cell_type": "markdown",
   "metadata": {},
   "source": [
    "### Imputing Nan in Credit_Product column using random forest algorithm"
   ]
  },
  {
   "cell_type": "code",
   "execution_count": 392,
   "metadata": {
    "scrolled": true
   },
   "outputs": [
    {
     "name": "stdout",
     "output_type": "stream",
     "text": [
      "<class 'pandas.core.frame.DataFrame'>\n",
      "Int64Index: 12522 entries, 1 to 105295\n",
      "Data columns (total 20 columns):\n",
      " #   Column               Non-Null Count  Dtype   \n",
      "---  ------               --------------  -----   \n",
      " 0   ID                   12522 non-null  object  \n",
      " 1   Gender               12522 non-null  int64   \n",
      " 2   Age                  12522 non-null  int64   \n",
      " 3   Region_Code          12522 non-null  category\n",
      " 4   Occupation           12522 non-null  category\n",
      " 5   Channel_Code         12522 non-null  category\n",
      " 6   Vintage              12522 non-null  int64   \n",
      " 7   Credit_Product       12522 non-null  int32   \n",
      " 8   Avg_Account_Balance  12522 non-null  int64   \n",
      " 9   Is_Active            12522 non-null  category\n",
      " 10  RG268                12522 non-null  int32   \n",
      " 11  RG283                12522 non-null  int32   \n",
      " 12  RG254                12522 non-null  int32   \n",
      " 13  RG284                12522 non-null  int32   \n",
      " 14  RG277                12522 non-null  int32   \n",
      " 15  RG280                12522 non-null  int32   \n",
      " 16  RG270                12522 non-null  int32   \n",
      " 17  X1                   12522 non-null  int32   \n",
      " 18  X3                   12522 non-null  int32   \n",
      " 19  X2                   12522 non-null  int32   \n",
      "dtypes: category(4), int32(11), int64(4), object(1)\n",
      "memory usage: 1.5+ MB\n",
      "None\n",
      "----------------------------\n",
      "Final test file after imputing nan\n",
      "<class 'pandas.core.frame.DataFrame'>\n",
      "Int64Index: 105312 entries, 0 to 105295\n",
      "Data columns (total 20 columns):\n",
      " #   Column               Non-Null Count   Dtype   \n",
      "---  ------               --------------   -----   \n",
      " 0   ID                   105312 non-null  object  \n",
      " 1   Gender               105312 non-null  int64   \n",
      " 2   Age                  105312 non-null  int64   \n",
      " 3   Region_Code          105312 non-null  category\n",
      " 4   Occupation           105312 non-null  category\n",
      " 5   Channel_Code         105312 non-null  category\n",
      " 6   Vintage              105312 non-null  int64   \n",
      " 7   Credit_Product       105312 non-null  int64   \n",
      " 8   Avg_Account_Balance  105312 non-null  int64   \n",
      " 9   Is_Active            105312 non-null  category\n",
      " 10  RG268                105312 non-null  int32   \n",
      " 11  RG283                105312 non-null  int32   \n",
      " 12  RG254                105312 non-null  int32   \n",
      " 13  RG284                105312 non-null  int32   \n",
      " 14  RG277                105312 non-null  int32   \n",
      " 15  RG280                105312 non-null  int32   \n",
      " 16  RG270                105312 non-null  int32   \n",
      " 17  X1                   105312 non-null  int32   \n",
      " 18  X3                   105312 non-null  int32   \n",
      " 19  X2                   105312 non-null  int32   \n",
      "dtypes: category(4), int32(10), int64(5), object(1)\n",
      "memory usage: 10.0+ MB\n",
      "None\n"
     ]
    },
    {
     "name": "stderr",
     "output_type": "stream",
     "text": [
      "<ipython-input-392-d3f0f6544942>:4: SettingWithCopyWarning: \n",
      "A value is trying to be set on a copy of a slice from a DataFrame.\n",
      "Try using .loc[row_indexer,col_indexer] = value instead\n",
      "\n",
      "See the caveats in the documentation: https://pandas.pydata.org/pandas-docs/stable/user_guide/indexing.html#returning-a-view-versus-a-copy\n",
      "  df_nan_test[\"Credit_Product\"]=y_tset_pred\n"
     ]
    }
   ],
   "source": [
    "X_testset1=df_nan_test.drop([\"ID\",\"Credit_Product\",\"Region_Code\",\"Channel_Code\"],axis=1)\n",
    "X_testset= X_testset1.iloc[:, :].values\n",
    "y_tset_pred = classifier.predict(X_testset)\n",
    "df_nan_test[\"Credit_Product\"]=y_tset_pred\n",
    "print(df_nan_test.info())\n",
    "print(\"----------------------------\")\n",
    "finaldf_test=pd.concat([df_nan_train, df_nan_test])\n",
    "print(\"Final test file after imputing nan\")\n",
    "print(finaldf_test.info())\n",
    "fdf_test=finaldf_test.copy()"
   ]
  },
  {
   "cell_type": "markdown",
   "metadata": {},
   "source": [
    "### Selecting final model classifier used by the training csv file classifier_final for prediction of Is_Lead"
   ]
  },
  {
   "cell_type": "code",
   "execution_count": 393,
   "metadata": {},
   "outputs": [
    {
     "name": "stdout",
     "output_type": "stream",
     "text": [
      "<class 'pandas.core.frame.DataFrame'>\n",
      "Int64Index: 105312 entries, 0 to 105295\n",
      "Data columns (total 20 columns):\n",
      " #   Column               Non-Null Count   Dtype   \n",
      "---  ------               --------------   -----   \n",
      " 0   ID                   105312 non-null  object  \n",
      " 1   Gender               105312 non-null  int64   \n",
      " 2   Age                  105312 non-null  int64   \n",
      " 3   Region_Code          105312 non-null  category\n",
      " 4   Occupation           105312 non-null  category\n",
      " 5   Channel_Code         105312 non-null  category\n",
      " 6   Vintage              105312 non-null  int64   \n",
      " 7   Credit_Product       105312 non-null  int64   \n",
      " 8   Avg_Account_Balance  105312 non-null  int64   \n",
      " 9   Is_Active            105312 non-null  category\n",
      " 10  RG268                105312 non-null  int32   \n",
      " 11  RG283                105312 non-null  int32   \n",
      " 12  RG254                105312 non-null  int32   \n",
      " 13  RG284                105312 non-null  int32   \n",
      " 14  RG277                105312 non-null  int32   \n",
      " 15  RG280                105312 non-null  int32   \n",
      " 16  RG270                105312 non-null  int32   \n",
      " 17  X1                   105312 non-null  int32   \n",
      " 18  X3                   105312 non-null  int32   \n",
      " 19  X2                   105312 non-null  int32   \n",
      "dtypes: category(4), int32(10), int64(5), object(1)\n",
      "memory usage: 10.0+ MB\n"
     ]
    }
   ],
   "source": [
    "fdf_test.info()"
   ]
  },
  {
   "cell_type": "code",
   "execution_count": 394,
   "metadata": {},
   "outputs": [],
   "source": [
    "#fdf_test\n",
    "\n",
    "xx1_=fdf_test.drop([\"ID\",\"Region_Code\",\"Channel_Code\"],axis=1)\n",
    "X1_ = xx1_.iloc[:, :].values\n",
    "\n",
    "y_pred_final= classifier_final.predict(X1_)\n",
    "\n"
   ]
  },
  {
   "cell_type": "code",
   "execution_count": 395,
   "metadata": {},
   "outputs": [],
   "source": [
    "fdf_test[\"Is_Lead\"]=y_pred_final"
   ]
  },
  {
   "cell_type": "code",
   "execution_count": 396,
   "metadata": {},
   "outputs": [
    {
     "name": "stdout",
     "output_type": "stream",
     "text": [
      "<class 'pandas.core.frame.DataFrame'>\n",
      "Int64Index: 105312 entries, 0 to 105295\n",
      "Data columns (total 21 columns):\n",
      " #   Column               Non-Null Count   Dtype   \n",
      "---  ------               --------------   -----   \n",
      " 0   ID                   105312 non-null  object  \n",
      " 1   Gender               105312 non-null  int64   \n",
      " 2   Age                  105312 non-null  int64   \n",
      " 3   Region_Code          105312 non-null  category\n",
      " 4   Occupation           105312 non-null  category\n",
      " 5   Channel_Code         105312 non-null  category\n",
      " 6   Vintage              105312 non-null  int64   \n",
      " 7   Credit_Product       105312 non-null  int64   \n",
      " 8   Avg_Account_Balance  105312 non-null  int64   \n",
      " 9   Is_Active            105312 non-null  category\n",
      " 10  RG268                105312 non-null  int32   \n",
      " 11  RG283                105312 non-null  int32   \n",
      " 12  RG254                105312 non-null  int32   \n",
      " 13  RG284                105312 non-null  int32   \n",
      " 14  RG277                105312 non-null  int32   \n",
      " 15  RG280                105312 non-null  int32   \n",
      " 16  RG270                105312 non-null  int32   \n",
      " 17  X1                   105312 non-null  int32   \n",
      " 18  X3                   105312 non-null  int32   \n",
      " 19  X2                   105312 non-null  int32   \n",
      " 20  Is_Lead              105312 non-null  int32   \n",
      "dtypes: category(4), int32(11), int64(5), object(1)\n",
      "memory usage: 10.4+ MB\n"
     ]
    }
   ],
   "source": [
    "fdf_test.info()"
   ]
  },
  {
   "cell_type": "code",
   "execution_count": 397,
   "metadata": {},
   "outputs": [
    {
     "name": "stdout",
     "output_type": "stream",
     "text": [
      "<class 'pandas.core.frame.DataFrame'>\n",
      "RangeIndex: 105312 entries, 0 to 105311\n",
      "Data columns (total 20 columns):\n",
      " #   Column               Non-Null Count   Dtype   \n",
      "---  ------               --------------   -----   \n",
      " 0   ID                   105312 non-null  object  \n",
      " 1   Gender               105312 non-null  int64   \n",
      " 2   Age                  105312 non-null  int64   \n",
      " 3   Region_Code          105312 non-null  category\n",
      " 4   Occupation           105312 non-null  category\n",
      " 5   Channel_Code         105312 non-null  category\n",
      " 6   Vintage              105312 non-null  int64   \n",
      " 7   Credit_Product       92790 non-null   category\n",
      " 8   Avg_Account_Balance  105312 non-null  int64   \n",
      " 9   Is_Active            105312 non-null  category\n",
      " 10  RG268                105312 non-null  int32   \n",
      " 11  RG283                105312 non-null  int32   \n",
      " 12  RG254                105312 non-null  int32   \n",
      " 13  RG284                105312 non-null  int32   \n",
      " 14  RG277                105312 non-null  int32   \n",
      " 15  RG280                105312 non-null  int32   \n",
      " 16  RG270                105312 non-null  int32   \n",
      " 17  X1                   105312 non-null  int32   \n",
      " 18  X3                   105312 non-null  int32   \n",
      " 19  X2                   105312 non-null  int32   \n",
      "dtypes: category(5), int32(10), int64(4), object(1)\n",
      "memory usage: 8.5+ MB\n"
     ]
    }
   ],
   "source": [
    "credit_test.info()"
   ]
  },
  {
   "cell_type": "markdown",
   "metadata": {},
   "source": [
    "### Saving Final Submission file to csv"
   ]
  },
  {
   "cell_type": "code",
   "execution_count": 399,
   "metadata": {},
   "outputs": [],
   "source": [
    "\n",
    "dtest=fdf_test[[\"ID\",\"Is_Lead\"]]\n",
    "\n",
    "dtest.to_csv('submission2.csv',index=False)"
   ]
  },
  {
   "cell_type": "code",
   "execution_count": null,
   "metadata": {},
   "outputs": [],
   "source": []
  }
 ],
 "metadata": {
  "kernelspec": {
   "display_name": "Python 3",
   "language": "python",
   "name": "python3"
  },
  "language_info": {
   "codemirror_mode": {
    "name": "ipython",
    "version": 3
   },
   "file_extension": ".py",
   "mimetype": "text/x-python",
   "name": "python",
   "nbconvert_exporter": "python",
   "pygments_lexer": "ipython3",
   "version": "3.8.5"
  }
 },
 "nbformat": 4,
 "nbformat_minor": 4
}
